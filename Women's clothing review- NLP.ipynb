{
 "cells": [
  {
   "cell_type": "code",
   "execution_count": 187,
   "id": "b8f28741",
   "metadata": {},
   "outputs": [],
   "source": [
    "import nltk\n",
    "import numpy as np\n",
    "import pandas as pd\n",
    "import seaborn as sns\n",
    "import matplotlib as mpl\n",
    "import matplotlib.pyplot as plt\n",
    "\n",
    "from nltk.corpus import stopwords\n",
    "from nltk.tokenize import RegexpTokenizer\n",
    "from nltk.stem.porter import PorterStemmer\n",
    "from nltk.sentiment.vader import SentimentIntensityAnalyzer"
   ]
  },
  {
   "cell_type": "code",
   "execution_count": 188,
   "id": "7d214713",
   "metadata": {},
   "outputs": [
    {
     "data": {
      "text/html": [
       "<div>\n",
       "<style scoped>\n",
       "    .dataframe tbody tr th:only-of-type {\n",
       "        vertical-align: middle;\n",
       "    }\n",
       "\n",
       "    .dataframe tbody tr th {\n",
       "        vertical-align: top;\n",
       "    }\n",
       "\n",
       "    .dataframe thead th {\n",
       "        text-align: right;\n",
       "    }\n",
       "</style>\n",
       "<table border=\"1\" class=\"dataframe\">\n",
       "  <thead>\n",
       "    <tr style=\"text-align: right;\">\n",
       "      <th></th>\n",
       "      <th>Product ID</th>\n",
       "      <th>Category</th>\n",
       "      <th>Subcategory1</th>\n",
       "      <th>SubCategory2</th>\n",
       "      <th>Location</th>\n",
       "      <th>Channel</th>\n",
       "      <th>Customer Age</th>\n",
       "      <th>Review Title</th>\n",
       "      <th>Review Text</th>\n",
       "      <th>Rating</th>\n",
       "      <th>Recommend Flag</th>\n",
       "    </tr>\n",
       "  </thead>\n",
       "  <tbody>\n",
       "    <tr>\n",
       "      <th>23483</th>\n",
       "      <td>1104</td>\n",
       "      <td>General Petite</td>\n",
       "      <td>Dresses</td>\n",
       "      <td>Dresses</td>\n",
       "      <td>Gurgaon</td>\n",
       "      <td>Web</td>\n",
       "      <td>31</td>\n",
       "      <td>Cute, but see through</td>\n",
       "      <td>This fit well, but the top was very see through. this never would have worked for me. i'm glad i was able to try it on in the store and didn't order it online. with different fabric, it would have been great.</td>\n",
       "      <td>3</td>\n",
       "      <td>0</td>\n",
       "    </tr>\n",
       "    <tr>\n",
       "      <th>23484</th>\n",
       "      <td>1084</td>\n",
       "      <td>General</td>\n",
       "      <td>Dresses</td>\n",
       "      <td>Dresses</td>\n",
       "      <td>Gurgaon</td>\n",
       "      <td>Web</td>\n",
       "      <td>28</td>\n",
       "      <td>Very cute dress, perfect for summer parties and we</td>\n",
       "      <td>I bought this dress for a wedding i have this summer, and it's so cute. unfortunately the fit isn't perfect. the medium fits my waist perfectly, but was way too long and too big in the bust and shoulders. if i wanted to spend the money, i could get it tailored, but i just felt like it might not be worth it. side note - this dress was delivered to me with a nordstrom tag on it and i found it much cheaper there after looking!</td>\n",
       "      <td>3</td>\n",
       "      <td>1</td>\n",
       "    </tr>\n",
       "    <tr>\n",
       "      <th>23485</th>\n",
       "      <td>1104</td>\n",
       "      <td>General Petite</td>\n",
       "      <td>Dresses</td>\n",
       "      <td>Dresses</td>\n",
       "      <td>Chennai</td>\n",
       "      <td>Mobile</td>\n",
       "      <td>52</td>\n",
       "      <td>Please make more like this one!</td>\n",
       "      <td>This dress in a lovely platinum is feminine and fits perfectly, easy to wear and comfy, too! highly recommend!</td>\n",
       "      <td>5</td>\n",
       "      <td>1</td>\n",
       "    </tr>\n",
       "  </tbody>\n",
       "</table>\n",
       "</div>"
      ],
      "text/plain": [
       "       Product ID        Category Subcategory1 SubCategory2 Location Channel  \\\n",
       "23483        1104  General Petite      Dresses      Dresses  Gurgaon     Web   \n",
       "23484        1084         General      Dresses      Dresses  Gurgaon     Web   \n",
       "23485        1104  General Petite      Dresses      Dresses  Chennai  Mobile   \n",
       "\n",
       "       Customer Age                                        Review Title  \\\n",
       "23483            31                               Cute, but see through   \n",
       "23484            28  Very cute dress, perfect for summer parties and we   \n",
       "23485            52                     Please make more like this one!   \n",
       "\n",
       "                                                                                                                                                                                                                                                                                                                                                                                                                                       Review Text  \\\n",
       "23483                                                                                                                                                                                                                             This fit well, but the top was very see through. this never would have worked for me. i'm glad i was able to try it on in the store and didn't order it online. with different fabric, it would have been great.   \n",
       "23484  I bought this dress for a wedding i have this summer, and it's so cute. unfortunately the fit isn't perfect. the medium fits my waist perfectly, but was way too long and too big in the bust and shoulders. if i wanted to spend the money, i could get it tailored, but i just felt like it might not be worth it. side note - this dress was delivered to me with a nordstrom tag on it and i found it much cheaper there after looking!   \n",
       "23485                                                                                                                                                                                                                                                                                                                               This dress in a lovely platinum is feminine and fits perfectly, easy to wear and comfy, too! highly recommend!   \n",
       "\n",
       "       Rating  Recommend Flag  \n",
       "23483       3               0  \n",
       "23484       3               1  \n",
       "23485       5               1  "
      ]
     },
     "execution_count": 188,
     "metadata": {},
     "output_type": "execute_result"
    }
   ],
   "source": [
    "woman = pd.read_excel('Womens Clothing Reviews Data.xlsx')\n",
    "woman.tail(3)"
   ]
  },
  {
   "cell_type": "code",
   "execution_count": 189,
   "id": "2246a7b7",
   "metadata": {},
   "outputs": [
    {
     "name": "stdout",
     "output_type": "stream",
     "text": [
      "<class 'pandas.core.frame.DataFrame'>\n",
      "RangeIndex: 23486 entries, 0 to 23485\n",
      "Data columns (total 11 columns):\n",
      " #   Column          Non-Null Count  Dtype \n",
      "---  ------          --------------  ----- \n",
      " 0   Product ID      23486 non-null  int64 \n",
      " 1   Category        23472 non-null  object\n",
      " 2   Subcategory1    23472 non-null  object\n",
      " 3   SubCategory2    23472 non-null  object\n",
      " 4   Location        23486 non-null  object\n",
      " 5   Channel         23486 non-null  object\n",
      " 6   Customer Age    23486 non-null  int64 \n",
      " 7   Review Title    19676 non-null  object\n",
      " 8   Review Text     22641 non-null  object\n",
      " 9   Rating          23486 non-null  int64 \n",
      " 10  Recommend Flag  23486 non-null  int64 \n",
      "dtypes: int64(4), object(7)\n",
      "memory usage: 2.0+ MB\n"
     ]
    }
   ],
   "source": [
    "woman.info()"
   ]
  },
  {
   "cell_type": "code",
   "execution_count": 190,
   "id": "43df0f7b",
   "metadata": {},
   "outputs": [],
   "source": [
    "for column in [\"Category\",\"Subcategory1\",\"SubCategory2\",\"Review Text\"]:\n",
    "    woman = woman[woman[column].notnull()]\n",
    "woman.drop(woman.columns[0], inplace=True, axis=1)"
   ]
  },
  {
   "cell_type": "code",
   "execution_count": 191,
   "id": "171aba9f",
   "metadata": {},
   "outputs": [
    {
     "data": {
      "text/plain": [
       "(22628, 10)"
      ]
     },
     "execution_count": 191,
     "metadata": {},
     "output_type": "execute_result"
    }
   ],
   "source": [
    "woman.shape"
   ]
  },
  {
   "cell_type": "code",
   "execution_count": 192,
   "id": "cd408ca3",
   "metadata": {},
   "outputs": [],
   "source": [
    "woman['Label'] = 0"
   ]
  },
  {
   "cell_type": "code",
   "execution_count": 193,
   "id": "65e1e93d",
   "metadata": {},
   "outputs": [],
   "source": [
    "woman.loc[woman.Rating >= 3, ['Label']] = 1"
   ]
  },
  {
   "cell_type": "code",
   "execution_count": 194,
   "id": "f9eb6cb7",
   "metadata": {},
   "outputs": [],
   "source": [
    "woman['Word Count'] = woman['Review Text'].str.split().apply(len)"
   ]
  },
  {
   "cell_type": "code",
   "execution_count": 195,
   "id": "c78a33c4",
   "metadata": {},
   "outputs": [
    {
     "data": {
      "text/html": [
       "<div>\n",
       "<style scoped>\n",
       "    .dataframe tbody tr th:only-of-type {\n",
       "        vertical-align: middle;\n",
       "    }\n",
       "\n",
       "    .dataframe tbody tr th {\n",
       "        vertical-align: top;\n",
       "    }\n",
       "\n",
       "    .dataframe thead th {\n",
       "        text-align: right;\n",
       "    }\n",
       "</style>\n",
       "<table border=\"1\" class=\"dataframe\">\n",
       "  <thead>\n",
       "    <tr style=\"text-align: right;\">\n",
       "      <th></th>\n",
       "      <th>Category</th>\n",
       "      <th>Subcategory1</th>\n",
       "      <th>SubCategory2</th>\n",
       "      <th>Location</th>\n",
       "      <th>Channel</th>\n",
       "      <th>Customer Age</th>\n",
       "      <th>Review Title</th>\n",
       "      <th>Review Text</th>\n",
       "      <th>Rating</th>\n",
       "      <th>Recommend Flag</th>\n",
       "      <th>Label</th>\n",
       "      <th>Word Count</th>\n",
       "    </tr>\n",
       "  </thead>\n",
       "  <tbody>\n",
       "    <tr>\n",
       "      <th>17004</th>\n",
       "      <td>General</td>\n",
       "      <td>Tops</td>\n",
       "      <td>Sweaters</td>\n",
       "      <td>Mumbai</td>\n",
       "      <td>Web</td>\n",
       "      <td>53</td>\n",
       "      <td>Just ok cowl sweater</td>\n",
       "      <td>Gorgeous color and fit, but fabric is not great. i ordered this to wear with leggings and booties. i returned as i could tell it would get baggy in the elbows and rear end. just not a good fabric. bummer!!!!</td>\n",
       "      <td>3</td>\n",
       "      <td>0</td>\n",
       "      <td>1</td>\n",
       "      <td>40</td>\n",
       "    </tr>\n",
       "    <tr>\n",
       "      <th>8840</th>\n",
       "      <td>General</td>\n",
       "      <td>Dresses</td>\n",
       "      <td>Dresses</td>\n",
       "      <td>Gurgaon</td>\n",
       "      <td>Web</td>\n",
       "      <td>36</td>\n",
       "      <td>Day/evening, every season, no snag tulling!</td>\n",
       "      <td>I don't even know where to begin--this is a dress for all seasons, but especially the holiday season! i bought it specifically for the guise of a holiday part, i can't tell you what a (black) velvet blazer and (black) patent leather heels did for it! the amazing part is that i wore it to work with a cardigan and booties with no problem. my coworkers were amazed but its transition. i have a slim velvet belt with a antique-ish looking clasp that i wore all day with it, too, and that was the ch...</td>\n",
       "      <td>5</td>\n",
       "      <td>1</td>\n",
       "      <td>1</td>\n",
       "      <td>95</td>\n",
       "    </tr>\n",
       "    <tr>\n",
       "      <th>7117</th>\n",
       "      <td>General</td>\n",
       "      <td>Tops</td>\n",
       "      <td>Sweaters</td>\n",
       "      <td>Gurgaon</td>\n",
       "      <td>Web</td>\n",
       "      <td>44</td>\n",
       "      <td>Very itchy!</td>\n",
       "      <td>A beautiful sweater and very flattering on.  the stock photos do not do it justice.  but, i had to give it only 2 stars because it was so itchy that i couldn't even keep it on in the dressing room for more than a minute.</td>\n",
       "      <td>2</td>\n",
       "      <td>0</td>\n",
       "      <td>0</td>\n",
       "      <td>45</td>\n",
       "    </tr>\n",
       "    <tr>\n",
       "      <th>1900</th>\n",
       "      <td>General Petite</td>\n",
       "      <td>Bottoms</td>\n",
       "      <td>Pants</td>\n",
       "      <td>Gurgaon</td>\n",
       "      <td>Web</td>\n",
       "      <td>56</td>\n",
       "      <td>The perfect pant for warmer weather</td>\n",
       "      <td>Finding pants off the rack that fit me is always a challenge - i'm petite (5' 1'), a bit curvy and short-waisted, so many of today's low-rise styles just do not work for me. however, these pants are a better cut and come pretty close to a perfect fit - comfortable and flattering, too. i've actually had pretty good luck with pilcro pants. i always have some gapping in the waist, but it's not much of an issue with these. more than likely whatever top i wear will hide that part. i was advised b...</td>\n",
       "      <td>5</td>\n",
       "      <td>1</td>\n",
       "      <td>1</td>\n",
       "      <td>96</td>\n",
       "    </tr>\n",
       "    <tr>\n",
       "      <th>18213</th>\n",
       "      <td>General</td>\n",
       "      <td>Bottoms</td>\n",
       "      <td>Shorts</td>\n",
       "      <td>Bangalore</td>\n",
       "      <td>Web</td>\n",
       "      <td>33</td>\n",
       "      <td>This is my new summer go to!</td>\n",
       "      <td>This jumper is so cute, it is soft, and you can dress it up or down depending on where your going.</td>\n",
       "      <td>5</td>\n",
       "      <td>1</td>\n",
       "      <td>1</td>\n",
       "      <td>21</td>\n",
       "    </tr>\n",
       "  </tbody>\n",
       "</table>\n",
       "</div>"
      ],
      "text/plain": [
       "             Category Subcategory1 SubCategory2   Location Channel  \\\n",
       "17004         General         Tops     Sweaters     Mumbai     Web   \n",
       "8840          General      Dresses      Dresses    Gurgaon     Web   \n",
       "7117          General         Tops     Sweaters    Gurgaon     Web   \n",
       "1900   General Petite      Bottoms        Pants    Gurgaon     Web   \n",
       "18213         General      Bottoms       Shorts  Bangalore     Web   \n",
       "\n",
       "       Customer Age                                 Review Title  \\\n",
       "17004            53                         Just ok cowl sweater   \n",
       "8840             36  Day/evening, every season, no snag tulling!   \n",
       "7117             44                                  Very itchy!   \n",
       "1900             56          The perfect pant for warmer weather   \n",
       "18213            33                 This is my new summer go to!   \n",
       "\n",
       "                                                                                                                                                                                                                                                                                                                                                                                                                                                                                                               Review Text  \\\n",
       "17004                                                                                                                                                                                                                                                                                                      Gorgeous color and fit, but fabric is not great. i ordered this to wear with leggings and booties. i returned as i could tell it would get baggy in the elbows and rear end. just not a good fabric. bummer!!!!   \n",
       "8840   I don't even know where to begin--this is a dress for all seasons, but especially the holiday season! i bought it specifically for the guise of a holiday part, i can't tell you what a (black) velvet blazer and (black) patent leather heels did for it! the amazing part is that i wore it to work with a cardigan and booties with no problem. my coworkers were amazed but its transition. i have a slim velvet belt with a antique-ish looking clasp that i wore all day with it, too, and that was the ch...   \n",
       "7117                                                                                                                                                                                                                                                                                          A beautiful sweater and very flattering on.  the stock photos do not do it justice.  but, i had to give it only 2 stars because it was so itchy that i couldn't even keep it on in the dressing room for more than a minute.   \n",
       "1900   Finding pants off the rack that fit me is always a challenge - i'm petite (5' 1'), a bit curvy and short-waisted, so many of today's low-rise styles just do not work for me. however, these pants are a better cut and come pretty close to a perfect fit - comfortable and flattering, too. i've actually had pretty good luck with pilcro pants. i always have some gapping in the waist, but it's not much of an issue with these. more than likely whatever top i wear will hide that part. i was advised b...   \n",
       "18213                                                                                                                                                                                                                                                                                                                                                                                                                   This jumper is so cute, it is soft, and you can dress it up or down depending on where your going.   \n",
       "\n",
       "       Rating  Recommend Flag  Label  Word Count  \n",
       "17004       3               0      1          40  \n",
       "8840        5               1      1          95  \n",
       "7117        2               0      0          45  \n",
       "1900        5               1      1          96  \n",
       "18213       5               1      1          21  "
      ]
     },
     "execution_count": 195,
     "metadata": {},
     "output_type": "execute_result"
    }
   ],
   "source": [
    "woman.sample(5)"
   ]
  },
  {
   "cell_type": "code",
   "execution_count": 196,
   "id": "0285efb5",
   "metadata": {},
   "outputs": [
    {
     "data": {
      "text/html": [
       "<div>\n",
       "<style scoped>\n",
       "    .dataframe tbody tr th:only-of-type {\n",
       "        vertical-align: middle;\n",
       "    }\n",
       "\n",
       "    .dataframe tbody tr th {\n",
       "        vertical-align: top;\n",
       "    }\n",
       "\n",
       "    .dataframe thead th {\n",
       "        text-align: right;\n",
       "    }\n",
       "</style>\n",
       "<table border=\"1\" class=\"dataframe\">\n",
       "  <thead>\n",
       "    <tr style=\"text-align: right;\">\n",
       "      <th></th>\n",
       "      <th>mean</th>\n",
       "      <th>std</th>\n",
       "      <th>min</th>\n",
       "      <th>25%</th>\n",
       "      <th>50%</th>\n",
       "      <th>75%</th>\n",
       "      <th>max</th>\n",
       "    </tr>\n",
       "  </thead>\n",
       "  <tbody>\n",
       "    <tr>\n",
       "      <th>Customer Age</th>\n",
       "      <td>43.282880</td>\n",
       "      <td>12.328176</td>\n",
       "      <td>18.0</td>\n",
       "      <td>34.0</td>\n",
       "      <td>41.0</td>\n",
       "      <td>52.0</td>\n",
       "      <td>99.0</td>\n",
       "    </tr>\n",
       "    <tr>\n",
       "      <th>Rating</th>\n",
       "      <td>4.183092</td>\n",
       "      <td>1.115911</td>\n",
       "      <td>1.0</td>\n",
       "      <td>4.0</td>\n",
       "      <td>5.0</td>\n",
       "      <td>5.0</td>\n",
       "      <td>5.0</td>\n",
       "    </tr>\n",
       "    <tr>\n",
       "      <th>Recommend Flag</th>\n",
       "      <td>0.818764</td>\n",
       "      <td>0.385222</td>\n",
       "      <td>0.0</td>\n",
       "      <td>1.0</td>\n",
       "      <td>1.0</td>\n",
       "      <td>1.0</td>\n",
       "      <td>1.0</td>\n",
       "    </tr>\n",
       "    <tr>\n",
       "      <th>Label</th>\n",
       "      <td>0.895263</td>\n",
       "      <td>0.306222</td>\n",
       "      <td>0.0</td>\n",
       "      <td>1.0</td>\n",
       "      <td>1.0</td>\n",
       "      <td>1.0</td>\n",
       "      <td>1.0</td>\n",
       "    </tr>\n",
       "    <tr>\n",
       "      <th>Word Count</th>\n",
       "      <td>60.281333</td>\n",
       "      <td>28.592443</td>\n",
       "      <td>2.0</td>\n",
       "      <td>36.0</td>\n",
       "      <td>59.0</td>\n",
       "      <td>89.0</td>\n",
       "      <td>115.0</td>\n",
       "    </tr>\n",
       "  </tbody>\n",
       "</table>\n",
       "</div>"
      ],
      "text/plain": [
       "                     mean        std   min   25%   50%   75%    max\n",
       "Customer Age    43.282880  12.328176  18.0  34.0  41.0  52.0   99.0\n",
       "Rating           4.183092   1.115911   1.0   4.0   5.0   5.0    5.0\n",
       "Recommend Flag   0.818764   0.385222   0.0   1.0   1.0   1.0    1.0\n",
       "Label            0.895263   0.306222   0.0   1.0   1.0   1.0    1.0\n",
       "Word Count      60.281333  28.592443   2.0  36.0  59.0  89.0  115.0"
      ]
     },
     "execution_count": 196,
     "metadata": {},
     "output_type": "execute_result"
    }
   ],
   "source": [
    "woman.describe().T.drop('count', axis=1)"
   ]
  },
  {
   "cell_type": "code",
   "execution_count": 197,
   "id": "a6a963c6",
   "metadata": {},
   "outputs": [
    {
     "data": {
      "text/html": [
       "<div>\n",
       "<style scoped>\n",
       "    .dataframe tbody tr th:only-of-type {\n",
       "        vertical-align: middle;\n",
       "    }\n",
       "\n",
       "    .dataframe tbody tr th {\n",
       "        vertical-align: top;\n",
       "    }\n",
       "\n",
       "    .dataframe thead th {\n",
       "        text-align: right;\n",
       "    }\n",
       "</style>\n",
       "<table border=\"1\" class=\"dataframe\">\n",
       "  <thead>\n",
       "    <tr style=\"text-align: right;\">\n",
       "      <th></th>\n",
       "      <th>unique</th>\n",
       "      <th>top</th>\n",
       "      <th>freq</th>\n",
       "    </tr>\n",
       "  </thead>\n",
       "  <tbody>\n",
       "    <tr>\n",
       "      <th>Review Title</th>\n",
       "      <td>13983</td>\n",
       "      <td>Love it!</td>\n",
       "      <td>136</td>\n",
       "    </tr>\n",
       "    <tr>\n",
       "      <th>Category</th>\n",
       "      <td>3</td>\n",
       "      <td>General</td>\n",
       "      <td>13365</td>\n",
       "    </tr>\n",
       "    <tr>\n",
       "      <th>Subcategory1</th>\n",
       "      <td>6</td>\n",
       "      <td>Tops</td>\n",
       "      <td>10048</td>\n",
       "    </tr>\n",
       "    <tr>\n",
       "      <th>SubCategory2</th>\n",
       "      <td>20</td>\n",
       "      <td>Dresses</td>\n",
       "      <td>6145</td>\n",
       "    </tr>\n",
       "  </tbody>\n",
       "</table>\n",
       "</div>"
      ],
      "text/plain": [
       "             unique       top   freq\n",
       "Review Title  13983  Love it!    136\n",
       "Category          3   General  13365\n",
       "Subcategory1      6      Tops  10048\n",
       "SubCategory2     20   Dresses   6145"
      ]
     },
     "execution_count": 197,
     "metadata": {},
     "output_type": "execute_result"
    }
   ],
   "source": [
    "woman[['Review Title', 'Category', 'Subcategory1', 'SubCategory2']].describe(include=['O']).T.drop('count', axis=1)"
   ]
  },
  {
   "cell_type": "code",
   "execution_count": 198,
   "id": "577cd4c9",
   "metadata": {},
   "outputs": [
    {
     "data": {
      "text/plain": [
       "Text(0.5, 1.0, 'Age Distribution ')"
      ]
     },
     "execution_count": 198,
     "metadata": {},
     "output_type": "execute_result"
    },
    {
     "data": {
      "image/png": "[encoded data removed]",
      "text/plain": [
       "<Figure size 432x288 with 1 Axes>"
      ]
     },
     "metadata": {
      "needs_background": "light"
     },
     "output_type": "display_data"
    }
   ],
   "source": [
    "plt.hist(woman['Customer Age'], color=\"turquoise\", label = \"Age\")\n",
    "plt.legend()\n",
    "plt.xlabel(\"Age\")\n",
    "plt.ylabel(\"Count\")\n",
    "plt.title(\"Age Distribution \")"
   ]
  },
  {
   "cell_type": "code",
   "execution_count": 199,
   "id": "2d65df91",
   "metadata": {},
   "outputs": [
    {
     "data": {
      "image/png": "[encoded data removed]",
      "text/plain": [
       "<Figure size 1008x288 with 2 Axes>"
      ]
     },
     "metadata": {
      "needs_background": "light"
     },
     "output_type": "display_data"
    }
   ],
   "source": [
    "Divdep = ['Category','Subcategory1']\n",
    "f, axes = plt.subplots(1, len(Divdep), figsize=(14, 4), sharex=False)\n",
    "\n",
    "for i, x in enumerate(Divdep):\n",
    "    sns.countplot(y=x, data=woman, order=woman[x].value_counts().index, ax=axes[i], color=\"turquoise\", palette=\"Set2\")\n",
    "    axes[i].set_title('Count of Categories in {}'.format(x))\n",
    "    axes[i].set_xlabel('')\n",
    "    axes[i].set_xlabel('Frequency Count')\n",
    "axes[0].set_ylabel('Category')\n",
    "axes[1].set_ylabel('')\n",
    "plt.savefig('divname-and-deptname-freqdist.png', format='png', dpi=600)\n",
    "plt.show()"
   ]
  },
  {
   "cell_type": "code",
   "execution_count": 200,
   "id": "04247495",
   "metadata": {},
   "outputs": [
    {
     "data": {
      "image/png": "[encoded data removed]",
      "text/plain": [
       "<Figure size 1152x432 with 3 Axes>"
      ]
     },
     "metadata": {
      "needs_background": "light"
     },
     "output_type": "display_data"
    }
   ],
   "source": [
    "Categorical_dtypes = ['Rating', 'Recommend Flag', 'Label']\n",
    "increment = 0\n",
    "f, axes = plt.subplots(1, len(Categorical_dtypes), figsize=(16, 6), sharex=False)\n",
    "\n",
    "for i in range(len(Categorical_dtypes)):\n",
    "    sns.countplot(x=Categorical_dtypes[increment], data=woman, order=woman[Categorical_dtypes[increment]].value_counts().index, ax=axes[i], color=\"turquoise\", palette=\"Pastel2\")\n",
    "    axes[i].set_title('Frequency Distribution for\\n{}'.format(Categorical_dtypes[increment]))\n",
    "    axes[i].set_ylabel('Occurrence')\n",
    "    axes[i].set_xlabel('{}'.format(Categorical_dtypes[increment]))\n",
    "    increment += 1\n",
    "axes[1].set_ylabel('')\n",
    "axes[2].set_ylabel('')\n",
    "plt.savefig('freqdist-rating-recommended-label.png', format='png', dpi=300)\n",
    "plt.show()"
   ]
  },
  {
   "cell_type": "code",
   "execution_count": 201,
   "id": "6cf6578d",
   "metadata": {},
   "outputs": [
    {
     "data": {
      "text/html": [
       "<div>\n",
       "<style scoped>\n",
       "    .dataframe tbody tr th:only-of-type {\n",
       "        vertical-align: middle;\n",
       "    }\n",
       "\n",
       "    .dataframe tbody tr th {\n",
       "        vertical-align: top;\n",
       "    }\n",
       "\n",
       "    .dataframe thead th {\n",
       "        text-align: right;\n",
       "    }\n",
       "</style>\n",
       "<table border=\"1\" class=\"dataframe\">\n",
       "  <thead>\n",
       "    <tr style=\"text-align: right;\">\n",
       "      <th></th>\n",
       "      <th>Review Title</th>\n",
       "      <th>Review Text</th>\n",
       "      <th>Rating</th>\n",
       "    </tr>\n",
       "  </thead>\n",
       "  <tbody>\n",
       "    <tr>\n",
       "      <th>11989</th>\n",
       "      <td>Gorgeous</td>\n",
       "      <td>I can't believe these aren't sold out yet.  i had no problem getting this over my head.  this top has such beautiful colors and embroidery.  quality is good.  flattering on.  at this price, it is probably the best deal i've gotten on anything from retailer.  i would recommend this top, absolutely!</td>\n",
       "      <td>5</td>\n",
       "    </tr>\n",
       "    <tr>\n",
       "      <th>164</th>\n",
       "      <td>So pretty!</td>\n",
       "      <td>I bought this and like other reviews, agree that the quality probably could be better, but i still love it enough to keep. the buckle fell apart, but i was able to fix it and the zipper seems a little weak. it has pilled, but the fabric is textured, so i didn't even notice until i read the other reviews and then looked back at my jacket.  it is a perfect medium coat for 40's &amp; 50's before i am ready to bust out my ugly down north face for winter.  i get compliments every time i wear it!  love!!</td>\n",
       "      <td>4</td>\n",
       "    </tr>\n",
       "  </tbody>\n",
       "</table>\n",
       "</div>"
      ],
      "text/plain": [
       "      Review Title  \\\n",
       "11989     Gorgeous   \n",
       "164     So pretty!   \n",
       "\n",
       "                                                                                                                                                                                                                                                                                                                                                                                                                                                                                                               Review Text  \\\n",
       "11989                                                                                                                                                                                                           I can't believe these aren't sold out yet.  i had no problem getting this over my head.  this top has such beautiful colors and embroidery.  quality is good.  flattering on.  at this price, it is probably the best deal i've gotten on anything from retailer.  i would recommend this top, absolutely!   \n",
       "164    I bought this and like other reviews, agree that the quality probably could be better, but i still love it enough to keep. the buckle fell apart, but i was able to fix it and the zipper seems a little weak. it has pilled, but the fabric is textured, so i didn't even notice until i read the other reviews and then looked back at my jacket.  it is a perfect medium coat for 40's & 50's before i am ready to bust out my ugly down north face for winter.  i get compliments every time i wear it!  love!!   \n",
       "\n",
       "       Rating  \n",
       "11989       5  \n",
       "164         4  "
      ]
     },
     "execution_count": 201,
     "metadata": {},
     "output_type": "execute_result"
    }
   ],
   "source": [
    "pd.set_option('max_colwidth', 500)\n",
    "woman[[\"Review Title\",\"Review Text\", \"Rating\"]].sample(2)"
   ]
  },
  {
   "cell_type": "code",
   "execution_count": 202,
   "id": "e768cd01",
   "metadata": {},
   "outputs": [
    {
     "name": "stderr",
     "output_type": "stream",
     "text": [
      "[nltk_data] Downloading package stopwords to\n",
      "[nltk_data]     C:\\Users\\kumar\\AppData\\Roaming\\nltk_data...\n",
      "[nltk_data]   Package stopwords is already up-to-date!\n"
     ]
    },
    {
     "data": {
      "text/plain": [
       "True"
      ]
     },
     "execution_count": 202,
     "metadata": {},
     "output_type": "execute_result"
    }
   ],
   "source": [
    "nltk.download('stopwords')"
   ]
  },
  {
   "cell_type": "code",
   "execution_count": 203,
   "id": "8c34a675",
   "metadata": {},
   "outputs": [],
   "source": [
    "ps = PorterStemmer()\n",
    "\n",
    "tokenizer = RegexpTokenizer(r'\\w+')\n",
    "stop_words = set(stopwords.words('english'))\n",
    "\n",
    "def preprocessing(data):\n",
    "    txt = data.str.lower().str.cat(sep=' ') #1\n",
    "    words = tokenizer.tokenize(txt) #2\n",
    "    words = [w for w in words if not w in stop_words] #3\n",
    "    #words = [ps.stem(w) for w in words] #4\n",
    "    return words"
   ]
  },
  {
   "cell_type": "code",
   "execution_count": 204,
   "id": "b3d01021",
   "metadata": {},
   "outputs": [
    {
     "name": "stderr",
     "output_type": "stream",
     "text": [
      "[nltk_data] Downloading package vader_lexicon to\n",
      "[nltk_data]     C:\\Users\\kumar\\AppData\\Roaming\\nltk_data...\n",
      "[nltk_data]   Package vader_lexicon is already up-to-date!\n"
     ]
    },
    {
     "data": {
      "text/plain": [
       "True"
      ]
     },
     "execution_count": 204,
     "metadata": {},
     "output_type": "execute_result"
    }
   ],
   "source": [
    "nltk.download('vader_lexicon')"
   ]
  },
  {
   "cell_type": "code",
   "execution_count": 205,
   "id": "ce03097a",
   "metadata": {},
   "outputs": [],
   "source": [
    "# Pre-Processing\n",
    "SIA = SentimentIntensityAnalyzer()\n",
    "woman['Review Text']= woman['Review Text'].astype(str)\n",
    "\n",
    "# Applying Model, Variable Creation\n",
    "woman['Polarity Score'] = woman['Review Text'].apply(lambda x: SIA.polarity_scores(x)['compound'])\n",
    "woman['Neutral Score'] = woman['Review Text'].apply(lambda x: SIA.polarity_scores(x)['neu'])\n",
    "woman['Negative Score'] = woman['Review Text'].apply(lambda x: SIA.polarity_scores(x)['neg'])\n",
    "woman['Positive Score'] = woman['Review Text'].apply(lambda x: SIA.polarity_scores(x)['pos'])\n",
    "\n",
    "# Converting 0 to 1 Decimal Score to a Categorical Variable\n",
    "woman['Sentiment'] = ''\n",
    "woman.loc[woman['Polarity Score'] > 0, 'Sentiment'] = 'Positive'\n",
    "woman.loc[woman['Polarity Score'] == 0, 'Sentiment'] = 'Neutral'\n",
    "woman.loc[woman['Polarity Score'] < 0, 'Sentiment'] = 'Negative'"
   ]
  },
  {
   "cell_type": "code",
   "execution_count": 206,
   "id": "0948fdb0",
   "metadata": {},
   "outputs": [],
   "source": [
    "def percentstandardize_barplot(x, y, hue, data, ax=None, order=None):\n",
    "    \"\"\"\n",
    "    Standardize by percentage the data using pandas functions, then plot using Seaborn.\n",
    "    Function arguments are and extention of Seaborns'.\n",
    "    \"\"\"\n",
    "    sns.barplot(x=x, y=y, hue=hue, ax=ax, order=order, color=\"turquoise\",\n",
    "                data=(data[[x, hue]]\n",
    "                      .reset_index(drop=True)\n",
    "                      .groupby([x])[hue]\n",
    "                      .value_counts(normalize=True)\n",
    "                      .rename('Percentage').mul(100)\n",
    "                      .reset_index()\n",
    "                      .sort_values(hue)))\n",
    "    plt.title('Percentage Frequency of {} by {}'.format(hue, x))\n",
    "    plt.ylabel('Percentage %')"
   ]
  },
  {
   "cell_type": "code",
   "execution_count": 207,
   "id": "73641460",
   "metadata": {},
   "outputs": [
    {
     "data": {
      "image/png": "[encoded data removed]",
      "text/plain": [
       "<Figure size 1152x648 with 2 Axes>"
      ]
     },
     "metadata": {
      "needs_background": "light"
     },
     "output_type": "display_data"
    }
   ],
   "source": [
    "huevar = 'Recommend Flag'\n",
    "xvar = 'Sentiment'\n",
    "f, axes = plt.subplots(1, 2, figsize=(16, 9))\n",
    "sns.countplot(x=xvar, hue=huevar,data=woman, ax=axes[0], order=['Negative', 'Neutral', 'Positive'], color=\"turquoise\")\n",
    "axes[0].set_title('Occurence of {}\\nby {}'.format(xvar, huevar))\n",
    "axes[0].set_ylabel('Count')\n",
    "percentstandardize_barplot(x=xvar, y='Percentage', hue=huevar, data=woman, ax=axes[1], )\n",
    "axes[1].set_title('Percentage Normalized Occurence of {}\\nby {}'.format(xvar, huevar))\n",
    "axes[1].set_ylabel('% Percentage by {}'.format(huevar))\n",
    "plt.savefig('norm-sentimentdist.png', format='png', dpi=300)\n",
    "plt.show()"
   ]
  },
  {
   "cell_type": "code",
   "execution_count": 208,
   "id": "22938152",
   "metadata": {},
   "outputs": [
    {
     "data": {
      "image/png": "[encoded data removed]",
      "text/plain": [
       "<Figure size 864x864 with 4 Axes>"
      ]
     },
     "metadata": {
      "needs_background": "light"
     },
     "output_type": "display_data"
    }
   ],
   "source": [
    "xvar = 'Sentiment'\n",
    "huevar = 'Category'\n",
    "rowvar = 'Recommend Flag'\n",
    "\n",
    "# Plot\n",
    "f, axes = plt.subplots(2, 2, figsize=(12, 12), sharex=False, sharey=False)\n",
    "for i,x in enumerate(set(woman[rowvar][woman[rowvar].notnull()])):\n",
    "    percentstandardize_barplot(x=xvar, y='Percentage', hue=huevar, data=woman[woman[rowvar] == x],\n",
    "                               ax=axes[i,0], order=['Negative','Neutral','Positive'])\n",
    "    percentstandardize_barplot(x=xvar, y='Percentage', hue='Rating', data=woman[woman[rowvar] == x],\n",
    "                               ax=axes[i,1], order=['Negative','Neutral','Positive'])\n",
    "\n",
    "# Plot Aesthetics\n",
    "axes[1,0].legend_.remove()\n",
    "axes[1,1].legend_.remove()\n",
    "axes[0,1].set_ylabel('')\n",
    "axes[1,1].set_ylabel('')\n",
    "axes[0,0].set_xlabel('')\n",
    "axes[0,1].set_xlabel('')\n",
    "axes[0,0].set_ylabel('Recommended = FALSE\\nPercentage %')\n",
    "axes[1,0].set_ylabel('Recommended = TRUE\\nPercentage %')\n",
    "axes[1,1].set_title('')\n",
    "\n",
    "# Common title and ylabel\n",
    "f.text(0.0, 0.5, 'Subplot Rows\\nSliced by Recommended', va='center', rotation='vertical', fontsize=12)\n",
    "f.suptitle('Review Sentiment by Department Name and Rating\\nSubplot Rows Slice Data by Recommended', fontsize=16)\n",
    "f.tight_layout()\n",
    "f.subplots_adjust(top=0.93)\n",
    "plt.savefig('sentiment-deptname-rating-recommended.png', format='png', dpi=300)\n",
    "plt.show()"
   ]
  },
  {
   "cell_type": "code",
   "execution_count": 209,
   "id": "9ae84b7b",
   "metadata": {},
   "outputs": [
    {
     "name": "stdout",
     "output_type": "stream",
     "text": [
      "<class 'pandas.core.frame.DataFrame'>\n",
      "Int64Index: 22628 entries, 0 to 23485\n",
      "Data columns (total 17 columns):\n",
      " #   Column          Non-Null Count  Dtype  \n",
      "---  ------          --------------  -----  \n",
      " 0   Category        22628 non-null  object \n",
      " 1   Subcategory1    22628 non-null  object \n",
      " 2   SubCategory2    22628 non-null  object \n",
      " 3   Location        22628 non-null  object \n",
      " 4   Channel         22628 non-null  object \n",
      " 5   Customer Age    22628 non-null  int64  \n",
      " 6   Review Title    19662 non-null  object \n",
      " 7   Review Text     22628 non-null  object \n",
      " 8   Rating          22628 non-null  int64  \n",
      " 9   Recommend Flag  22628 non-null  int64  \n",
      " 10  Label           22628 non-null  int64  \n",
      " 11  Word Count      22628 non-null  int64  \n",
      " 12  Polarity Score  22628 non-null  float64\n",
      " 13  Neutral Score   22628 non-null  float64\n",
      " 14  Negative Score  22628 non-null  float64\n",
      " 15  Positive Score  22628 non-null  float64\n",
      " 16  Sentiment       22628 non-null  object \n",
      "dtypes: float64(4), int64(5), object(8)\n",
      "memory usage: 3.1+ MB\n"
     ]
    }
   ],
   "source": [
    "woman.info()"
   ]
  },
  {
   "cell_type": "code",
   "execution_count": 210,
   "id": "52173db6",
   "metadata": {},
   "outputs": [
    {
     "data": {
      "text/html": [
       "<div>\n",
       "<style scoped>\n",
       "    .dataframe tbody tr th:only-of-type {\n",
       "        vertical-align: middle;\n",
       "    }\n",
       "\n",
       "    .dataframe tbody tr th {\n",
       "        vertical-align: top;\n",
       "    }\n",
       "\n",
       "    .dataframe thead th {\n",
       "        text-align: right;\n",
       "    }\n",
       "</style>\n",
       "<table border=\"1\" class=\"dataframe\">\n",
       "  <thead>\n",
       "    <tr style=\"text-align: right;\">\n",
       "      <th></th>\n",
       "      <th>Review Text</th>\n",
       "      <th>Rating</th>\n",
       "    </tr>\n",
       "  </thead>\n",
       "  <tbody>\n",
       "    <tr>\n",
       "      <th>0</th>\n",
       "      <td>Absolutely wonderful - silky and sexy and comfortable</td>\n",
       "      <td>1</td>\n",
       "    </tr>\n",
       "    <tr>\n",
       "      <th>1</th>\n",
       "      <td>Love this dress!  it's sooo pretty.  i happened to find it in a store, and i'm glad i did bc i never would have ordered it online bc it's petite.  i bought a petite and am 5'8\".  i love the length on me- hits just a little below the knee.  would definitely be a true midi on someone who is truly petite.</td>\n",
       "      <td>1</td>\n",
       "    </tr>\n",
       "    <tr>\n",
       "      <th>2</th>\n",
       "      <td>I had such high hopes for this dress and really wanted it to work for me. i initially ordered the petite small (my usual size) but i found this to be outrageously small. so small in fact that i could not zip it up! i reordered it in petite medium, which was just ok. overall, the top half was comfortable and fit nicely, but the bottom half had a very tight under layer and several somewhat cheap (net) over layers. imo, a major design flaw was the net over layer sewn directly into the zipper - ...</td>\n",
       "      <td>0</td>\n",
       "    </tr>\n",
       "    <tr>\n",
       "      <th>3</th>\n",
       "      <td>I love, love, love this jumpsuit. it's fun, flirty, and fabulous! every time i wear it, i get nothing but great compliments!</td>\n",
       "      <td>1</td>\n",
       "    </tr>\n",
       "    <tr>\n",
       "      <th>4</th>\n",
       "      <td>This shirt is very flattering to all due to the adjustable front tie. it is the perfect length to wear with leggings and it is sleeveless so it pairs well with any cardigan. love this shirt!!!</td>\n",
       "      <td>1</td>\n",
       "    </tr>\n",
       "  </tbody>\n",
       "</table>\n",
       "</div>"
      ],
      "text/plain": [
       "                                                                                                                                                                                                                                                                                                                                                                                                                                                                                                           Review Text  \\\n",
       "0                                                                                                                                                                                                                                                                                                                                                                                                                                                                Absolutely wonderful - silky and sexy and comfortable   \n",
       "1                                                                                                                                                                                                      Love this dress!  it's sooo pretty.  i happened to find it in a store, and i'm glad i did bc i never would have ordered it online bc it's petite.  i bought a petite and am 5'8\".  i love the length on me- hits just a little below the knee.  would definitely be a true midi on someone who is truly petite.   \n",
       "2  I had such high hopes for this dress and really wanted it to work for me. i initially ordered the petite small (my usual size) but i found this to be outrageously small. so small in fact that i could not zip it up! i reordered it in petite medium, which was just ok. overall, the top half was comfortable and fit nicely, but the bottom half had a very tight under layer and several somewhat cheap (net) over layers. imo, a major design flaw was the net over layer sewn directly into the zipper - ...   \n",
       "3                                                                                                                                                                                                                                                                                                                                                                                         I love, love, love this jumpsuit. it's fun, flirty, and fabulous! every time i wear it, i get nothing but great compliments!   \n",
       "4                                                                                                                                                                                                                                                                                                                     This shirt is very flattering to all due to the adjustable front tie. it is the perfect length to wear with leggings and it is sleeveless so it pairs well with any cardigan. love this shirt!!!   \n",
       "\n",
       "   Rating  \n",
       "0       1  \n",
       "1       1  \n",
       "2       0  \n",
       "3       1  \n",
       "4       1  "
      ]
     },
     "execution_count": 210,
     "metadata": {},
     "output_type": "execute_result"
    }
   ],
   "source": [
    "\n",
    "woman['Rating'] = [1 if rating > 3 else 0 for rating in woman['Rating']]\n",
    "woman = woman[['Review Text', 'Rating']]\n",
    "woman.head()"
   ]
  },
  {
   "cell_type": "code",
   "execution_count": 211,
   "id": "1d273a7f",
   "metadata": {},
   "outputs": [
    {
     "data": {
      "text/plain": [
       "((16971, 1), (5657, 1))"
      ]
     },
     "execution_count": 211,
     "metadata": {},
     "output_type": "execute_result"
    }
   ],
   "source": [
    "from sklearn.model_selection import train_test_split\n",
    "\n",
    "X_train, X_test, y_train, y_test = train_test_split(woman[['Review Text']], woman['Rating'], random_state=42)\n",
    "X_train.shape, X_test.shape"
   ]
  },
  {
   "cell_type": "code",
   "execution_count": 212,
   "id": "b5c8a3d4",
   "metadata": {},
   "outputs": [
    {
     "data": {
      "text/plain": [
       "(Counter({1: 13052, 0: 3919}), Counter({1: 4383, 0: 1274}))"
      ]
     },
     "execution_count": 212,
     "metadata": {},
     "output_type": "execute_result"
    }
   ],
   "source": [
    "from collections import Counter\n",
    "Counter(y_train), Counter(y_test)"
   ]
  },
  {
   "cell_type": "code",
   "execution_count": 213,
   "id": "1ce5272d",
   "metadata": {},
   "outputs": [],
   "source": [
    "import string\n",
    "\n",
    "X_train['char_count'] = X_train['Review Text'].apply(len)\n",
    "X_train['word_count'] = X_train['Review Text'].apply(lambda x: len(x.split()))\n",
    "X_train['word_density'] = X_train['char_count'] / (X_train['word_count']+1)\n",
    "X_train['punctuation_count'] = X_train['Review Text'].apply(lambda x: len(\"\".join(_ for _ in x if _ in string.punctuation))) \n",
    "X_train['title_word_count'] = X_train['Review Text'].apply(lambda x: len([wrd for wrd in x.split() if wrd.istitle()]))\n",
    "X_train['upper_case_word_count'] = X_train['Review Text'].apply(lambda x: len([wrd for wrd in x.split() if wrd.isupper()]))\n",
    "\n",
    "\n",
    "X_test['char_count'] = X_test['Review Text'].apply(len)\n",
    "X_test['word_count'] = X_test['Review Text'].apply(lambda x: len(x.split()))\n",
    "X_test['word_density'] = X_test['char_count'] / (X_test['word_count']+1)\n",
    "X_test['punctuation_count'] = X_test['Review Text'].apply(lambda x: len(\"\".join(_ for _ in x if _ in string.punctuation))) \n",
    "X_test['title_word_count'] = X_test['Review Text'].apply(lambda x: len([wrd for wrd in x.split() if wrd.istitle()]))\n",
    "X_test['upper_case_word_count'] = X_test['Review Text'].apply(lambda x: len([wrd for wrd in x.split() if wrd.isupper()]))"
   ]
  },
  {
   "cell_type": "code",
   "execution_count": 214,
   "id": "c0e95aa7",
   "metadata": {},
   "outputs": [
    {
     "data": {
      "text/html": [
       "<div>\n",
       "<style scoped>\n",
       "    .dataframe tbody tr th:only-of-type {\n",
       "        vertical-align: middle;\n",
       "    }\n",
       "\n",
       "    .dataframe tbody tr th {\n",
       "        vertical-align: top;\n",
       "    }\n",
       "\n",
       "    .dataframe thead th {\n",
       "        text-align: right;\n",
       "    }\n",
       "</style>\n",
       "<table border=\"1\" class=\"dataframe\">\n",
       "  <thead>\n",
       "    <tr style=\"text-align: right;\">\n",
       "      <th></th>\n",
       "      <th>Review Text</th>\n",
       "      <th>char_count</th>\n",
       "      <th>word_count</th>\n",
       "      <th>word_density</th>\n",
       "      <th>punctuation_count</th>\n",
       "      <th>title_word_count</th>\n",
       "      <th>upper_case_word_count</th>\n",
       "    </tr>\n",
       "  </thead>\n",
       "  <tbody>\n",
       "    <tr>\n",
       "      <th>15157</th>\n",
       "      <td>Love this poncho! purchased xs in gold/olive color and the length is good. i could have sized up for extra length but thought there was too much fabric in body. for reference-5'8\". slender. love the diagonal cable pattern and curved design. the sleeves are more comfortable for me pushed up a little but if left long works well and are about wrist length. the color is great for fall but could easily transition into winter.spring. the gray is a lighter gray and is nice, too, but size xs not ava...</td>\n",
       "      <td>500</td>\n",
       "      <td>90</td>\n",
       "      <td>5.494505</td>\n",
       "      <td>15</td>\n",
       "      <td>1</td>\n",
       "      <td>0</td>\n",
       "    </tr>\n",
       "    <tr>\n",
       "      <th>16016</th>\n",
       "      <td>Love these chinos! they are so soft, have the right amount of stretch for a curvy figure, and the colors are great. i have purchased the khaki and blue so far. the blue color has the perfect washed/faded look. i love that they have petite sizes available. i will be stocking up on the other colors.</td>\n",
       "      <td>298</td>\n",
       "      <td>56</td>\n",
       "      <td>5.228070</td>\n",
       "      <td>9</td>\n",
       "      <td>1</td>\n",
       "      <td>0</td>\n",
       "    </tr>\n",
       "    <tr>\n",
       "      <th>22169</th>\n",
       "      <td>So soft, comfortable and warm! i ordered the black and think i'll buy the grey and lavender, as well. the material is a little synthetic/almost shiny looking, but definitely not a deal breaker. these are my new lounge pants. recommend!</td>\n",
       "      <td>235</td>\n",
       "      <td>40</td>\n",
       "      <td>5.731707</td>\n",
       "      <td>10</td>\n",
       "      <td>1</td>\n",
       "      <td>0</td>\n",
       "    </tr>\n",
       "    <tr>\n",
       "      <th>638</th>\n",
       "      <td>I got the shorts and the blue motif they're really comfortable and will look cute with a tank top for the weekend.   they true to size them usually a size 4 to 6 and i got a small and that works.</td>\n",
       "      <td>195</td>\n",
       "      <td>41</td>\n",
       "      <td>4.642857</td>\n",
       "      <td>3</td>\n",
       "      <td>1</td>\n",
       "      <td>1</td>\n",
       "    </tr>\n",
       "    <tr>\n",
       "      <th>11732</th>\n",
       "      <td>Love the fabric. comfortable to wear with jeans or a dress. good for those cool fall mornings.</td>\n",
       "      <td>94</td>\n",
       "      <td>17</td>\n",
       "      <td>5.222222</td>\n",
       "      <td>3</td>\n",
       "      <td>1</td>\n",
       "      <td>0</td>\n",
       "    </tr>\n",
       "  </tbody>\n",
       "</table>\n",
       "</div>"
      ],
      "text/plain": [
       "                                                                                                                                                                                                                                                                                                                                                                                                                                                                                                               Review Text  \\\n",
       "15157  Love this poncho! purchased xs in gold/olive color and the length is good. i could have sized up for extra length but thought there was too much fabric in body. for reference-5'8\". slender. love the diagonal cable pattern and curved design. the sleeves are more comfortable for me pushed up a little but if left long works well and are about wrist length. the color is great for fall but could easily transition into winter.spring. the gray is a lighter gray and is nice, too, but size xs not ava...   \n",
       "16016                                                                                                                                                                                                           Love these chinos! they are so soft, have the right amount of stretch for a curvy figure, and the colors are great. i have purchased the khaki and blue so far. the blue color has the perfect washed/faded look. i love that they have petite sizes available. i will be stocking up on the other colors.   \n",
       "22169                                                                                                                                                                                                                                                                          So soft, comfortable and warm! i ordered the black and think i'll buy the grey and lavender, as well. the material is a little synthetic/almost shiny looking, but definitely not a deal breaker. these are my new lounge pants. recommend!   \n",
       "638                                                                                                                                                                                                                                                                                                                    I got the shorts and the blue motif they're really comfortable and will look cute with a tank top for the weekend.   they true to size them usually a size 4 to 6 and i got a small and that works.   \n",
       "11732                                                                                                                                                                                                                                                                                                                                                                                                                       Love the fabric. comfortable to wear with jeans or a dress. good for those cool fall mornings.   \n",
       "\n",
       "       char_count  word_count  word_density  punctuation_count  \\\n",
       "15157         500          90      5.494505                 15   \n",
       "16016         298          56      5.228070                  9   \n",
       "22169         235          40      5.731707                 10   \n",
       "638           195          41      4.642857                  3   \n",
       "11732          94          17      5.222222                  3   \n",
       "\n",
       "       title_word_count  upper_case_word_count  \n",
       "15157                 1                      0  \n",
       "16016                 1                      0  \n",
       "22169                 1                      0  \n",
       "638                   1                      1  \n",
       "11732                 1                      0  "
      ]
     },
     "execution_count": 214,
     "metadata": {},
     "output_type": "execute_result"
    }
   ],
   "source": [
    "X_train.head()"
   ]
  },
  {
   "cell_type": "code",
   "execution_count": 215,
   "id": "dc03275a",
   "metadata": {},
   "outputs": [],
   "source": [
    "from sklearn.linear_model import LogisticRegression\n",
    "from sklearn.metrics import confusion_matrix, classification_report\n",
    "\n",
    "lr = LogisticRegression(C=1, random_state=42, solver='liblinear')"
   ]
  },
  {
   "cell_type": "code",
   "execution_count": 216,
   "id": "951ff27e",
   "metadata": {},
   "outputs": [
    {
     "name": "stdout",
     "output_type": "stream",
     "text": [
      "              precision    recall  f1-score   support\n",
      "\n",
      "           0       0.00      0.00      0.00      1274\n",
      "           1       0.77      1.00      0.87      4383\n",
      "\n",
      "    accuracy                           0.77      5657\n",
      "   macro avg       0.39      0.50      0.44      5657\n",
      "weighted avg       0.60      0.77      0.68      5657\n",
      "\n"
     ]
    },
    {
     "name": "stderr",
     "output_type": "stream",
     "text": [
      "C:\\Users\\kumar\\anaconda3\\lib\\site-packages\\sklearn\\metrics\\_classification.py:1318: UndefinedMetricWarning: Precision and F-score are ill-defined and being set to 0.0 in labels with no predicted samples. Use `zero_division` parameter to control this behavior.\n",
      "  _warn_prf(average, modifier, msg_start, len(result))\n",
      "C:\\Users\\kumar\\anaconda3\\lib\\site-packages\\sklearn\\metrics\\_classification.py:1318: UndefinedMetricWarning: Precision and F-score are ill-defined and being set to 0.0 in labels with no predicted samples. Use `zero_division` parameter to control this behavior.\n",
      "  _warn_prf(average, modifier, msg_start, len(result))\n",
      "C:\\Users\\kumar\\anaconda3\\lib\\site-packages\\sklearn\\metrics\\_classification.py:1318: UndefinedMetricWarning: Precision and F-score are ill-defined and being set to 0.0 in labels with no predicted samples. Use `zero_division` parameter to control this behavior.\n",
      "  _warn_prf(average, modifier, msg_start, len(result))\n"
     ]
    },
    {
     "data": {
      "text/html": [
       "<div>\n",
       "<style scoped>\n",
       "    .dataframe tbody tr th:only-of-type {\n",
       "        vertical-align: middle;\n",
       "    }\n",
       "\n",
       "    .dataframe tbody tr th {\n",
       "        vertical-align: top;\n",
       "    }\n",
       "\n",
       "    .dataframe thead th {\n",
       "        text-align: right;\n",
       "    }\n",
       "</style>\n",
       "<table border=\"1\" class=\"dataframe\">\n",
       "  <thead>\n",
       "    <tr style=\"text-align: right;\">\n",
       "      <th></th>\n",
       "      <th>0</th>\n",
       "      <th>1</th>\n",
       "    </tr>\n",
       "  </thead>\n",
       "  <tbody>\n",
       "    <tr>\n",
       "      <th>0</th>\n",
       "      <td>0</td>\n",
       "      <td>1274</td>\n",
       "    </tr>\n",
       "    <tr>\n",
       "      <th>1</th>\n",
       "      <td>0</td>\n",
       "      <td>4383</td>\n",
       "    </tr>\n",
       "  </tbody>\n",
       "</table>\n",
       "</div>"
      ],
      "text/plain": [
       "   0     1\n",
       "0  0  1274\n",
       "1  0  4383"
      ]
     },
     "execution_count": 216,
     "metadata": {},
     "output_type": "execute_result"
    }
   ],
   "source": [
    "lr.fit(X_train.drop(['Review Text'], axis=1), y_train)\n",
    "predictions = lr.predict(X_test.drop(['Review Text'], axis=1))\n",
    "\n",
    "print(classification_report(y_test, predictions))\n",
    "pd.DataFrame(confusion_matrix(y_test, predictions))"
   ]
  },
  {
   "cell_type": "markdown",
   "id": "29852d13",
   "metadata": {},
   "source": [
    "Looks like our model was not able to predict a single product having a bad (no recommendation) rating, i.e. Class 0.\n",
    "\n",
    "This is as good as someone predicting a 1 or good for every product review."
   ]
  },
  {
   "cell_type": "code",
   "execution_count": 217,
   "id": "bccabdd6",
   "metadata": {},
   "outputs": [
    {
     "name": "stdout",
     "output_type": "stream",
     "text": [
      "Requirement already satisfied: textblob in c:\\users\\kumar\\anaconda3\\lib\\site-packages (0.17.1)\n",
      "Requirement already satisfied: nltk>=3.1 in c:\\users\\kumar\\anaconda3\\lib\\site-packages (from textblob) (3.7)\n",
      "Requirement already satisfied: tqdm in c:\\users\\kumar\\anaconda3\\lib\\site-packages (from nltk>=3.1->textblob) (4.64.0)\n",
      "Requirement already satisfied: regex>=2021.8.3 in c:\\users\\kumar\\anaconda3\\lib\\site-packages (from nltk>=3.1->textblob) (2022.3.15)\n",
      "Requirement already satisfied: joblib in c:\\users\\kumar\\anaconda3\\lib\\site-packages (from nltk>=3.1->textblob) (1.1.0)\n",
      "Requirement already satisfied: click in c:\\users\\kumar\\anaconda3\\lib\\site-packages (from nltk>=3.1->textblob) (8.0.4)\n",
      "Requirement already satisfied: colorama in c:\\users\\kumar\\anaconda3\\lib\\site-packages (from click->nltk>=3.1->textblob) (0.4.6)\n",
      "Note: you may need to restart the kernel to use updated packages.\n"
     ]
    }
   ],
   "source": [
    "pip install textblob"
   ]
  },
  {
   "cell_type": "code",
   "execution_count": 218,
   "id": "9798133f",
   "metadata": {},
   "outputs": [],
   "source": [
    "from textblob import TextBlob"
   ]
  },
  {
   "cell_type": "code",
   "execution_count": 219,
   "id": "3773acd6",
   "metadata": {},
   "outputs": [
    {
     "data": {
      "text/plain": [
       "Sentiment(polarity=0.7500000000000001, subjectivity=0.9)"
      ]
     },
     "execution_count": 219,
     "metadata": {},
     "output_type": "execute_result"
    }
   ],
   "source": [
    "TextBlob('This is an AMAZING pair of Jeans!').sentiment"
   ]
  },
  {
   "cell_type": "code",
   "execution_count": 220,
   "id": "a197d9fd",
   "metadata": {},
   "outputs": [
    {
     "data": {
      "text/plain": [
       "Sentiment(polarity=-0.95, subjectivity=0.85)"
      ]
     },
     "execution_count": 220,
     "metadata": {},
     "output_type": "execute_result"
    }
   ],
   "source": [
    "TextBlob('I really hated this UGLY T-shirt!!').sentiment"
   ]
  },
  {
   "cell_type": "code",
   "execution_count": 221,
   "id": "16a02533",
   "metadata": {},
   "outputs": [],
   "source": [
    "x_train_snt_obj = X_train['Review Text'].apply(lambda row: TextBlob(row).sentiment)\n",
    "X_train['Polarity'] = [obj.polarity for obj in x_train_snt_obj.values]\n",
    "X_train['Subjectivity'] = [obj.subjectivity for obj in x_train_snt_obj.values]\n",
    "\n",
    "x_test_snt_obj = X_test['Review Text'].apply(lambda row: TextBlob(row).sentiment)\n",
    "X_test['Polarity'] = [obj.polarity for obj in x_test_snt_obj.values]\n",
    "X_test['Subjectivity'] = [obj.subjectivity for obj in x_test_snt_obj.values]"
   ]
  },
  {
   "cell_type": "code",
   "execution_count": 222,
   "id": "ed18cc8f",
   "metadata": {},
   "outputs": [
    {
     "data": {
      "text/html": [
       "<div>\n",
       "<style scoped>\n",
       "    .dataframe tbody tr th:only-of-type {\n",
       "        vertical-align: middle;\n",
       "    }\n",
       "\n",
       "    .dataframe tbody tr th {\n",
       "        vertical-align: top;\n",
       "    }\n",
       "\n",
       "    .dataframe thead th {\n",
       "        text-align: right;\n",
       "    }\n",
       "</style>\n",
       "<table border=\"1\" class=\"dataframe\">\n",
       "  <thead>\n",
       "    <tr style=\"text-align: right;\">\n",
       "      <th></th>\n",
       "      <th>Review Text</th>\n",
       "      <th>char_count</th>\n",
       "      <th>word_count</th>\n",
       "      <th>word_density</th>\n",
       "      <th>punctuation_count</th>\n",
       "      <th>title_word_count</th>\n",
       "      <th>upper_case_word_count</th>\n",
       "      <th>Polarity</th>\n",
       "      <th>Subjectivity</th>\n",
       "    </tr>\n",
       "  </thead>\n",
       "  <tbody>\n",
       "    <tr>\n",
       "      <th>15157</th>\n",
       "      <td>Love this poncho! purchased xs in gold/olive color and the length is good. i could have sized up for extra length but thought there was too much fabric in body. for reference-5'8\". slender. love the diagonal cable pattern and curved design. the sleeves are more comfortable for me pushed up a little but if left long works well and are about wrist length. the color is great for fall but could easily transition into winter.spring. the gray is a lighter gray and is nice, too, but size xs not ava...</td>\n",
       "      <td>500</td>\n",
       "      <td>90</td>\n",
       "      <td>5.494505</td>\n",
       "      <td>15</td>\n",
       "      <td>1</td>\n",
       "      <td>0</td>\n",
       "      <td>0.347756</td>\n",
       "      <td>0.529487</td>\n",
       "    </tr>\n",
       "    <tr>\n",
       "      <th>16016</th>\n",
       "      <td>Love these chinos! they are so soft, have the right amount of stretch for a curvy figure, and the colors are great. i have purchased the khaki and blue so far. the blue color has the perfect washed/faded look. i love that they have petite sizes available. i will be stocking up on the other colors.</td>\n",
       "      <td>298</td>\n",
       "      <td>56</td>\n",
       "      <td>5.228070</td>\n",
       "      <td>9</td>\n",
       "      <td>1</td>\n",
       "      <td>0</td>\n",
       "      <td>0.335065</td>\n",
       "      <td>0.528247</td>\n",
       "    </tr>\n",
       "    <tr>\n",
       "      <th>22169</th>\n",
       "      <td>So soft, comfortable and warm! i ordered the black and think i'll buy the grey and lavender, as well. the material is a little synthetic/almost shiny looking, but definitely not a deal breaker. these are my new lounge pants. recommend!</td>\n",
       "      <td>235</td>\n",
       "      <td>40</td>\n",
       "      <td>5.731707</td>\n",
       "      <td>10</td>\n",
       "      <td>1</td>\n",
       "      <td>0</td>\n",
       "      <td>0.127036</td>\n",
       "      <td>0.467235</td>\n",
       "    </tr>\n",
       "    <tr>\n",
       "      <th>638</th>\n",
       "      <td>I got the shorts and the blue motif they're really comfortable and will look cute with a tank top for the weekend.   they true to size them usually a size 4 to 6 and i got a small and that works.</td>\n",
       "      <td>195</td>\n",
       "      <td>41</td>\n",
       "      <td>4.642857</td>\n",
       "      <td>3</td>\n",
       "      <td>1</td>\n",
       "      <td>1</td>\n",
       "      <td>0.178571</td>\n",
       "      <td>0.528571</td>\n",
       "    </tr>\n",
       "    <tr>\n",
       "      <th>11732</th>\n",
       "      <td>Love the fabric. comfortable to wear with jeans or a dress. good for those cool fall mornings.</td>\n",
       "      <td>94</td>\n",
       "      <td>17</td>\n",
       "      <td>5.222222</td>\n",
       "      <td>3</td>\n",
       "      <td>1</td>\n",
       "      <td>0</td>\n",
       "      <td>0.487500</td>\n",
       "      <td>0.662500</td>\n",
       "    </tr>\n",
       "  </tbody>\n",
       "</table>\n",
       "</div>"
      ],
      "text/plain": [
       "                                                                                                                                                                                                                                                                                                                                                                                                                                                                                                               Review Text  \\\n",
       "15157  Love this poncho! purchased xs in gold/olive color and the length is good. i could have sized up for extra length but thought there was too much fabric in body. for reference-5'8\". slender. love the diagonal cable pattern and curved design. the sleeves are more comfortable for me pushed up a little but if left long works well and are about wrist length. the color is great for fall but could easily transition into winter.spring. the gray is a lighter gray and is nice, too, but size xs not ava...   \n",
       "16016                                                                                                                                                                                                           Love these chinos! they are so soft, have the right amount of stretch for a curvy figure, and the colors are great. i have purchased the khaki and blue so far. the blue color has the perfect washed/faded look. i love that they have petite sizes available. i will be stocking up on the other colors.   \n",
       "22169                                                                                                                                                                                                                                                                          So soft, comfortable and warm! i ordered the black and think i'll buy the grey and lavender, as well. the material is a little synthetic/almost shiny looking, but definitely not a deal breaker. these are my new lounge pants. recommend!   \n",
       "638                                                                                                                                                                                                                                                                                                                    I got the shorts and the blue motif they're really comfortable and will look cute with a tank top for the weekend.   they true to size them usually a size 4 to 6 and i got a small and that works.   \n",
       "11732                                                                                                                                                                                                                                                                                                                                                                                                                       Love the fabric. comfortable to wear with jeans or a dress. good for those cool fall mornings.   \n",
       "\n",
       "       char_count  word_count  word_density  punctuation_count  \\\n",
       "15157         500          90      5.494505                 15   \n",
       "16016         298          56      5.228070                  9   \n",
       "22169         235          40      5.731707                 10   \n",
       "638           195          41      4.642857                  3   \n",
       "11732          94          17      5.222222                  3   \n",
       "\n",
       "       title_word_count  upper_case_word_count  Polarity  Subjectivity  \n",
       "15157                 1                      0  0.347756      0.529487  \n",
       "16016                 1                      0  0.335065      0.528247  \n",
       "22169                 1                      0  0.127036      0.467235  \n",
       "638                   1                      1  0.178571      0.528571  \n",
       "11732                 1                      0  0.487500      0.662500  "
      ]
     },
     "execution_count": 222,
     "metadata": {},
     "output_type": "execute_result"
    }
   ],
   "source": [
    "X_train.head()"
   ]
  },
  {
   "cell_type": "code",
   "execution_count": 223,
   "id": "a38e64bc",
   "metadata": {},
   "outputs": [
    {
     "name": "stdout",
     "output_type": "stream",
     "text": [
      "              precision    recall  f1-score   support\n",
      "\n",
      "           0       0.63      0.18      0.28      1274\n",
      "           1       0.80      0.97      0.88      4383\n",
      "\n",
      "    accuracy                           0.79      5657\n",
      "   macro avg       0.72      0.57      0.58      5657\n",
      "weighted avg       0.76      0.79      0.74      5657\n",
      "\n"
     ]
    },
    {
     "data": {
      "text/html": [
       "<div>\n",
       "<style scoped>\n",
       "    .dataframe tbody tr th:only-of-type {\n",
       "        vertical-align: middle;\n",
       "    }\n",
       "\n",
       "    .dataframe tbody tr th {\n",
       "        vertical-align: top;\n",
       "    }\n",
       "\n",
       "    .dataframe thead th {\n",
       "        text-align: right;\n",
       "    }\n",
       "</style>\n",
       "<table border=\"1\" class=\"dataframe\">\n",
       "  <thead>\n",
       "    <tr style=\"text-align: right;\">\n",
       "      <th></th>\n",
       "      <th>0</th>\n",
       "      <th>1</th>\n",
       "    </tr>\n",
       "  </thead>\n",
       "  <tbody>\n",
       "    <tr>\n",
       "      <th>0</th>\n",
       "      <td>224</td>\n",
       "      <td>1050</td>\n",
       "    </tr>\n",
       "    <tr>\n",
       "      <th>1</th>\n",
       "      <td>129</td>\n",
       "      <td>4254</td>\n",
       "    </tr>\n",
       "  </tbody>\n",
       "</table>\n",
       "</div>"
      ],
      "text/plain": [
       "     0     1\n",
       "0  224  1050\n",
       "1  129  4254"
      ]
     },
     "execution_count": 223,
     "metadata": {},
     "output_type": "execute_result"
    }
   ],
   "source": [
    "lr.fit(X_train.drop(['Review Text'], axis=1), y_train, )\n",
    "predictions = lr.predict(X_test.drop(['Review Text'], axis=1))\n",
    "\n",
    "print(classification_report(y_test, predictions))\n",
    "pd.DataFrame(confusion_matrix(y_test, predictions))"
   ]
  },
  {
   "cell_type": "code",
   "execution_count": 224,
   "id": "6aff2b52",
   "metadata": {},
   "outputs": [
    {
     "name": "stderr",
     "output_type": "stream",
     "text": [
      "[nltk_data] Downloading package punkt to\n",
      "[nltk_data]     C:\\Users\\kumar\\AppData\\Roaming\\nltk_data...\n",
      "[nltk_data]   Package punkt is already up-to-date!\n",
      "[nltk_data] Downloading package stopwords to\n",
      "[nltk_data]     C:\\Users\\kumar\\AppData\\Roaming\\nltk_data...\n",
      "[nltk_data]   Package stopwords is already up-to-date!\n"
     ]
    },
    {
     "data": {
      "text/plain": [
       "True"
      ]
     },
     "execution_count": 224,
     "metadata": {},
     "output_type": "execute_result"
    }
   ],
   "source": [
    "import nltk\n",
    "nltk.download('punkt')\n",
    "nltk.download('stopwords')"
   ]
  },
  {
   "cell_type": "code",
   "execution_count": 225,
   "id": "b962a817",
   "metadata": {},
   "outputs": [
    {
     "name": "stdout",
     "output_type": "stream",
     "text": [
      "Requirement already satisfied: contractions in c:\\users\\kumar\\anaconda3\\lib\\site-packages (0.1.73)\n",
      "Requirement already satisfied: textsearch>=0.0.21 in c:\\users\\kumar\\anaconda3\\lib\\site-packages (from contractions) (0.0.24)\n",
      "Requirement already satisfied: anyascii in c:\\users\\kumar\\anaconda3\\lib\\site-packages (from textsearch>=0.0.21->contractions) (0.3.2)\n",
      "Requirement already satisfied: pyahocorasick in c:\\users\\kumar\\anaconda3\\lib\\site-packages (from textsearch>=0.0.21->contractions) (2.0.0)\n",
      "Note: you may need to restart the kernel to use updated packages.\n"
     ]
    }
   ],
   "source": [
    "pip install contractions"
   ]
  },
  {
   "cell_type": "code",
   "execution_count": 226,
   "id": "154150a0",
   "metadata": {},
   "outputs": [
    {
     "data": {
      "text/plain": [
       "'I did not like this t-shirt'"
      ]
     },
     "execution_count": 226,
     "metadata": {},
     "output_type": "execute_result"
    }
   ],
   "source": [
    "import contractions\n",
    "\n",
    "contractions.fix('I didn\\'t like this t-shirt')"
   ]
  },
  {
   "cell_type": "code",
   "execution_count": 227,
   "id": "b96560cf",
   "metadata": {},
   "outputs": [],
   "source": [
    "import nltk\n",
    "import contractions\n",
    "import re\n",
    "\n",
    "# remove some stopwords to capture negation in n-grams if possible\n",
    "stop_words = nltk.corpus.stopwords.words('english')\n",
    "stop_words.remove('no')\n",
    "stop_words.remove('not')\n",
    "stop_words.remove('but')\n",
    "\n",
    "# load up a simple porter stemmer - nothing fancy\n",
    "ps = nltk.porter.PorterStemmer()\n",
    "\n",
    "def simple_text_preprocessor(document): \n",
    "    # lower case\n",
    "    document = str(document).lower()\n",
    "    \n",
    "    # expand contractions\n",
    "    document = contractions.fix(document)\n",
    "    \n",
    "    # remove unnecessary characters\n",
    "    document = re.sub(r'[^a-zA-Z]',r' ', document)\n",
    "    document = re.sub(r'nbsp', r'', document)\n",
    "    document = re.sub(' +', ' ', document)\n",
    "    \n",
    "    # simple porter stemming\n",
    "    document = ' '.join([ps.stem(word) for word in document.split()])\n",
    "    \n",
    "    # stopwords removal\n",
    "    document = ' '.join([word for word in document.split() if word not in stop_words])\n",
    "    \n",
    "    return document\n",
    "\n",
    "stp = np.vectorize(simple_text_preprocessor)"
   ]
  },
  {
   "cell_type": "code",
   "execution_count": 228,
   "id": "4ffc833a",
   "metadata": {},
   "outputs": [
    {
     "data": {
      "text/html": [
       "<div>\n",
       "<style scoped>\n",
       "    .dataframe tbody tr th:only-of-type {\n",
       "        vertical-align: middle;\n",
       "    }\n",
       "\n",
       "    .dataframe tbody tr th {\n",
       "        vertical-align: top;\n",
       "    }\n",
       "\n",
       "    .dataframe thead th {\n",
       "        text-align: right;\n",
       "    }\n",
       "</style>\n",
       "<table border=\"1\" class=\"dataframe\">\n",
       "  <thead>\n",
       "    <tr style=\"text-align: right;\">\n",
       "      <th></th>\n",
       "      <th>Review Text</th>\n",
       "      <th>char_count</th>\n",
       "      <th>word_count</th>\n",
       "      <th>word_density</th>\n",
       "      <th>punctuation_count</th>\n",
       "      <th>title_word_count</th>\n",
       "      <th>upper_case_word_count</th>\n",
       "      <th>Polarity</th>\n",
       "      <th>Subjectivity</th>\n",
       "      <th>Clean Review</th>\n",
       "    </tr>\n",
       "  </thead>\n",
       "  <tbody>\n",
       "    <tr>\n",
       "      <th>15157</th>\n",
       "      <td>Love this poncho! purchased xs in gold/olive color and the length is good. i could have sized up for extra length but thought there was too much fabric in body. for reference-5'8\". slender. love the diagonal cable pattern and curved design. the sleeves are more comfortable for me pushed up a little but if left long works well and are about wrist length. the color is great for fall but could easily transition into winter.spring. the gray is a lighter gray and is nice, too, but size xs not ava...</td>\n",
       "      <td>500</td>\n",
       "      <td>90</td>\n",
       "      <td>5.494505</td>\n",
       "      <td>15</td>\n",
       "      <td>1</td>\n",
       "      <td>0</td>\n",
       "      <td>0.347756</td>\n",
       "      <td>0.529487</td>\n",
       "      <td>love thi poncho purchas xs gold oliv color length good could size extra length but thought wa much fabric bodi refer slender love diagon cabl pattern curv design sleev comfort push littl but left long work well wrist length color great fall but could easili transit winter spring gray lighter gray nice but size xs not availab</td>\n",
       "    </tr>\n",
       "    <tr>\n",
       "      <th>16016</th>\n",
       "      <td>Love these chinos! they are so soft, have the right amount of stretch for a curvy figure, and the colors are great. i have purchased the khaki and blue so far. the blue color has the perfect washed/faded look. i love that they have petite sizes available. i will be stocking up on the other colors.</td>\n",
       "      <td>298</td>\n",
       "      <td>56</td>\n",
       "      <td>5.228070</td>\n",
       "      <td>9</td>\n",
       "      <td>1</td>\n",
       "      <td>0</td>\n",
       "      <td>0.335065</td>\n",
       "      <td>0.528247</td>\n",
       "      <td>love chino soft right amount stretch curvi figur color great purchas khaki blue far blue color ha perfect wash fade look love petit size avail stock color</td>\n",
       "    </tr>\n",
       "    <tr>\n",
       "      <th>22169</th>\n",
       "      <td>So soft, comfortable and warm! i ordered the black and think i'll buy the grey and lavender, as well. the material is a little synthetic/almost shiny looking, but definitely not a deal breaker. these are my new lounge pants. recommend!</td>\n",
       "      <td>235</td>\n",
       "      <td>40</td>\n",
       "      <td>5.731707</td>\n",
       "      <td>10</td>\n",
       "      <td>1</td>\n",
       "      <td>0</td>\n",
       "      <td>0.127036</td>\n",
       "      <td>0.467235</td>\n",
       "      <td>soft comfort warm order black think buy grey lavend well materi littl synthet almost shini look but definit not deal breaker new loung pant recommend</td>\n",
       "    </tr>\n",
       "    <tr>\n",
       "      <th>638</th>\n",
       "      <td>I got the shorts and the blue motif they're really comfortable and will look cute with a tank top for the weekend.   they true to size them usually a size 4 to 6 and i got a small and that works.</td>\n",
       "      <td>195</td>\n",
       "      <td>41</td>\n",
       "      <td>4.642857</td>\n",
       "      <td>3</td>\n",
       "      <td>1</td>\n",
       "      <td>1</td>\n",
       "      <td>0.178571</td>\n",
       "      <td>0.528571</td>\n",
       "      <td>got short blue motif realli comfort look cute tank top weekend true size usual size got small work</td>\n",
       "    </tr>\n",
       "    <tr>\n",
       "      <th>11732</th>\n",
       "      <td>Love the fabric. comfortable to wear with jeans or a dress. good for those cool fall mornings.</td>\n",
       "      <td>94</td>\n",
       "      <td>17</td>\n",
       "      <td>5.222222</td>\n",
       "      <td>3</td>\n",
       "      <td>1</td>\n",
       "      <td>0</td>\n",
       "      <td>0.487500</td>\n",
       "      <td>0.662500</td>\n",
       "      <td>love fabric comfort wear jean dress good cool fall morn</td>\n",
       "    </tr>\n",
       "  </tbody>\n",
       "</table>\n",
       "</div>"
      ],
      "text/plain": [
       "                                                                                                                                                                                                                                                                                                                                                                                                                                                                                                               Review Text  \\\n",
       "15157  Love this poncho! purchased xs in gold/olive color and the length is good. i could have sized up for extra length but thought there was too much fabric in body. for reference-5'8\". slender. love the diagonal cable pattern and curved design. the sleeves are more comfortable for me pushed up a little but if left long works well and are about wrist length. the color is great for fall but could easily transition into winter.spring. the gray is a lighter gray and is nice, too, but size xs not ava...   \n",
       "16016                                                                                                                                                                                                           Love these chinos! they are so soft, have the right amount of stretch for a curvy figure, and the colors are great. i have purchased the khaki and blue so far. the blue color has the perfect washed/faded look. i love that they have petite sizes available. i will be stocking up on the other colors.   \n",
       "22169                                                                                                                                                                                                                                                                          So soft, comfortable and warm! i ordered the black and think i'll buy the grey and lavender, as well. the material is a little synthetic/almost shiny looking, but definitely not a deal breaker. these are my new lounge pants. recommend!   \n",
       "638                                                                                                                                                                                                                                                                                                                    I got the shorts and the blue motif they're really comfortable and will look cute with a tank top for the weekend.   they true to size them usually a size 4 to 6 and i got a small and that works.   \n",
       "11732                                                                                                                                                                                                                                                                                                                                                                                                                       Love the fabric. comfortable to wear with jeans or a dress. good for those cool fall mornings.   \n",
       "\n",
       "       char_count  word_count  word_density  punctuation_count  \\\n",
       "15157         500          90      5.494505                 15   \n",
       "16016         298          56      5.228070                  9   \n",
       "22169         235          40      5.731707                 10   \n",
       "638           195          41      4.642857                  3   \n",
       "11732          94          17      5.222222                  3   \n",
       "\n",
       "       title_word_count  upper_case_word_count  Polarity  Subjectivity  \\\n",
       "15157                 1                      0  0.347756      0.529487   \n",
       "16016                 1                      0  0.335065      0.528247   \n",
       "22169                 1                      0  0.127036      0.467235   \n",
       "638                   1                      1  0.178571      0.528571   \n",
       "11732                 1                      0  0.487500      0.662500   \n",
       "\n",
       "                                                                                                                                                                                                                                                                                                                                 Clean Review  \n",
       "15157  love thi poncho purchas xs gold oliv color length good could size extra length but thought wa much fabric bodi refer slender love diagon cabl pattern curv design sleev comfort push littl but left long work well wrist length color great fall but could easili transit winter spring gray lighter gray nice but size xs not availab  \n",
       "16016                                                                                                                                                                              love chino soft right amount stretch curvi figur color great purchas khaki blue far blue color ha perfect wash fade look love petit size avail stock color  \n",
       "22169                                                                                                                                                                                   soft comfort warm order black think buy grey lavend well materi littl synthet almost shini look but definit not deal breaker new loung pant recommend  \n",
       "638                                                                                                                                                                                                                                        got short blue motif realli comfort look cute tank top weekend true size usual size got small work  \n",
       "11732                                                                                                                                                                                                                                                                                 love fabric comfort wear jean dress good cool fall morn  "
      ]
     },
     "execution_count": 228,
     "metadata": {},
     "output_type": "execute_result"
    }
   ],
   "source": [
    "X_train['Clean Review'] = stp(X_train['Review Text'].values)\n",
    "X_test['Clean Review'] = stp(X_test['Review Text'].values)\n",
    "\n",
    "X_train.head()"
   ]
  },
  {
   "cell_type": "code",
   "execution_count": 229,
   "id": "1949cb37",
   "metadata": {},
   "outputs": [
    {
     "data": {
      "text/html": [
       "<div>\n",
       "<style scoped>\n",
       "    .dataframe tbody tr th:only-of-type {\n",
       "        vertical-align: middle;\n",
       "    }\n",
       "\n",
       "    .dataframe tbody tr th {\n",
       "        vertical-align: top;\n",
       "    }\n",
       "\n",
       "    .dataframe thead th {\n",
       "        text-align: right;\n",
       "    }\n",
       "</style>\n",
       "<table border=\"1\" class=\"dataframe\">\n",
       "  <thead>\n",
       "    <tr style=\"text-align: right;\">\n",
       "      <th></th>\n",
       "      <th>char_count</th>\n",
       "      <th>word_count</th>\n",
       "      <th>word_density</th>\n",
       "      <th>punctuation_count</th>\n",
       "      <th>title_word_count</th>\n",
       "      <th>upper_case_word_count</th>\n",
       "      <th>Polarity</th>\n",
       "      <th>Subjectivity</th>\n",
       "    </tr>\n",
       "  </thead>\n",
       "  <tbody>\n",
       "    <tr>\n",
       "      <th>0</th>\n",
       "      <td>500</td>\n",
       "      <td>90</td>\n",
       "      <td>5.494505</td>\n",
       "      <td>15</td>\n",
       "      <td>1</td>\n",
       "      <td>0</td>\n",
       "      <td>0.347756</td>\n",
       "      <td>0.529487</td>\n",
       "    </tr>\n",
       "    <tr>\n",
       "      <th>1</th>\n",
       "      <td>298</td>\n",
       "      <td>56</td>\n",
       "      <td>5.228070</td>\n",
       "      <td>9</td>\n",
       "      <td>1</td>\n",
       "      <td>0</td>\n",
       "      <td>0.335065</td>\n",
       "      <td>0.528247</td>\n",
       "    </tr>\n",
       "    <tr>\n",
       "      <th>2</th>\n",
       "      <td>235</td>\n",
       "      <td>40</td>\n",
       "      <td>5.731707</td>\n",
       "      <td>10</td>\n",
       "      <td>1</td>\n",
       "      <td>0</td>\n",
       "      <td>0.127036</td>\n",
       "      <td>0.467235</td>\n",
       "    </tr>\n",
       "    <tr>\n",
       "      <th>3</th>\n",
       "      <td>195</td>\n",
       "      <td>41</td>\n",
       "      <td>4.642857</td>\n",
       "      <td>3</td>\n",
       "      <td>1</td>\n",
       "      <td>1</td>\n",
       "      <td>0.178571</td>\n",
       "      <td>0.528571</td>\n",
       "    </tr>\n",
       "    <tr>\n",
       "      <th>4</th>\n",
       "      <td>94</td>\n",
       "      <td>17</td>\n",
       "      <td>5.222222</td>\n",
       "      <td>3</td>\n",
       "      <td>1</td>\n",
       "      <td>0</td>\n",
       "      <td>0.487500</td>\n",
       "      <td>0.662500</td>\n",
       "    </tr>\n",
       "  </tbody>\n",
       "</table>\n",
       "</div>"
      ],
      "text/plain": [
       "   char_count  word_count  word_density  punctuation_count  title_word_count  \\\n",
       "0         500          90      5.494505                 15                 1   \n",
       "1         298          56      5.228070                  9                 1   \n",
       "2         235          40      5.731707                 10                 1   \n",
       "3         195          41      4.642857                  3                 1   \n",
       "4          94          17      5.222222                  3                 1   \n",
       "\n",
       "   upper_case_word_count  Polarity  Subjectivity  \n",
       "0                      0  0.347756      0.529487  \n",
       "1                      0  0.335065      0.528247  \n",
       "2                      0  0.127036      0.467235  \n",
       "3                      1  0.178571      0.528571  \n",
       "4                      0  0.487500      0.662500  "
      ]
     },
     "execution_count": 229,
     "metadata": {},
     "output_type": "execute_result"
    }
   ],
   "source": [
    "X_train_metadata = X_train.drop(['Review Text', 'Clean Review'], axis=1).reset_index(drop=True)\n",
    "X_test_metadata = X_test.drop(['Review Text', 'Clean Review'], axis=1).reset_index(drop=True)\n",
    "\n",
    "X_train_metadata.head()"
   ]
  },
  {
   "cell_type": "code",
   "execution_count": 230,
   "id": "5dba0532",
   "metadata": {},
   "outputs": [
    {
     "name": "stderr",
     "output_type": "stream",
     "text": [
      "C:\\Users\\kumar\\anaconda3\\lib\\site-packages\\sklearn\\utils\\deprecation.py:87: FutureWarning: Function get_feature_names is deprecated; get_feature_names is deprecated in 1.0 and will be removed in 1.2. Please use get_feature_names_out instead.\n",
      "  warnings.warn(msg, category=FutureWarning)\n",
      "C:\\Users\\kumar\\anaconda3\\lib\\site-packages\\sklearn\\utils\\deprecation.py:87: FutureWarning: Function get_feature_names is deprecated; get_feature_names is deprecated in 1.0 and will be removed in 1.2. Please use get_feature_names_out instead.\n",
      "  warnings.warn(msg, category=FutureWarning)\n"
     ]
    },
    {
     "data": {
      "text/html": [
       "<div>\n",
       "<style scoped>\n",
       "    .dataframe tbody tr th:only-of-type {\n",
       "        vertical-align: middle;\n",
       "    }\n",
       "\n",
       "    .dataframe tbody tr th {\n",
       "        vertical-align: top;\n",
       "    }\n",
       "\n",
       "    .dataframe thead th {\n",
       "        text-align: right;\n",
       "    }\n",
       "</style>\n",
       "<table border=\"1\" class=\"dataframe\">\n",
       "  <thead>\n",
       "    <tr style=\"text-align: right;\">\n",
       "      <th></th>\n",
       "      <th>aa</th>\n",
       "      <th>aaaaandidon</th>\n",
       "      <th>aaaaannnnnnd</th>\n",
       "      <th>aaaah</th>\n",
       "      <th>aaaahmaz</th>\n",
       "      <th>ab</th>\n",
       "      <th>abbey</th>\n",
       "      <th>abck</th>\n",
       "      <th>abdomen</th>\n",
       "      <th>abdomin</th>\n",
       "      <th>...</th>\n",
       "      <th>zigzag</th>\n",
       "      <th>zillion</th>\n",
       "      <th>zip</th>\n",
       "      <th>ziploc</th>\n",
       "      <th>zipper</th>\n",
       "      <th>zombi</th>\n",
       "      <th>zone</th>\n",
       "      <th>zooland</th>\n",
       "      <th>zoom</th>\n",
       "      <th>zuma</th>\n",
       "    </tr>\n",
       "  </thead>\n",
       "  <tbody>\n",
       "    <tr>\n",
       "      <th>0</th>\n",
       "      <td>0</td>\n",
       "      <td>0</td>\n",
       "      <td>0</td>\n",
       "      <td>0</td>\n",
       "      <td>0</td>\n",
       "      <td>0</td>\n",
       "      <td>0</td>\n",
       "      <td>0</td>\n",
       "      <td>0</td>\n",
       "      <td>0</td>\n",
       "      <td>...</td>\n",
       "      <td>0</td>\n",
       "      <td>0</td>\n",
       "      <td>0</td>\n",
       "      <td>0</td>\n",
       "      <td>0</td>\n",
       "      <td>0</td>\n",
       "      <td>0</td>\n",
       "      <td>0</td>\n",
       "      <td>0</td>\n",
       "      <td>0</td>\n",
       "    </tr>\n",
       "    <tr>\n",
       "      <th>1</th>\n",
       "      <td>0</td>\n",
       "      <td>0</td>\n",
       "      <td>0</td>\n",
       "      <td>0</td>\n",
       "      <td>0</td>\n",
       "      <td>0</td>\n",
       "      <td>0</td>\n",
       "      <td>0</td>\n",
       "      <td>0</td>\n",
       "      <td>0</td>\n",
       "      <td>...</td>\n",
       "      <td>0</td>\n",
       "      <td>0</td>\n",
       "      <td>0</td>\n",
       "      <td>0</td>\n",
       "      <td>0</td>\n",
       "      <td>0</td>\n",
       "      <td>0</td>\n",
       "      <td>0</td>\n",
       "      <td>0</td>\n",
       "      <td>0</td>\n",
       "    </tr>\n",
       "    <tr>\n",
       "      <th>2</th>\n",
       "      <td>0</td>\n",
       "      <td>0</td>\n",
       "      <td>0</td>\n",
       "      <td>0</td>\n",
       "      <td>0</td>\n",
       "      <td>0</td>\n",
       "      <td>0</td>\n",
       "      <td>0</td>\n",
       "      <td>0</td>\n",
       "      <td>0</td>\n",
       "      <td>...</td>\n",
       "      <td>0</td>\n",
       "      <td>0</td>\n",
       "      <td>0</td>\n",
       "      <td>0</td>\n",
       "      <td>0</td>\n",
       "      <td>0</td>\n",
       "      <td>0</td>\n",
       "      <td>0</td>\n",
       "      <td>0</td>\n",
       "      <td>0</td>\n",
       "    </tr>\n",
       "    <tr>\n",
       "      <th>3</th>\n",
       "      <td>0</td>\n",
       "      <td>0</td>\n",
       "      <td>0</td>\n",
       "      <td>0</td>\n",
       "      <td>0</td>\n",
       "      <td>0</td>\n",
       "      <td>0</td>\n",
       "      <td>0</td>\n",
       "      <td>0</td>\n",
       "      <td>0</td>\n",
       "      <td>...</td>\n",
       "      <td>0</td>\n",
       "      <td>0</td>\n",
       "      <td>0</td>\n",
       "      <td>0</td>\n",
       "      <td>0</td>\n",
       "      <td>0</td>\n",
       "      <td>0</td>\n",
       "      <td>0</td>\n",
       "      <td>0</td>\n",
       "      <td>0</td>\n",
       "    </tr>\n",
       "    <tr>\n",
       "      <th>4</th>\n",
       "      <td>0</td>\n",
       "      <td>0</td>\n",
       "      <td>0</td>\n",
       "      <td>0</td>\n",
       "      <td>0</td>\n",
       "      <td>0</td>\n",
       "      <td>0</td>\n",
       "      <td>0</td>\n",
       "      <td>0</td>\n",
       "      <td>0</td>\n",
       "      <td>...</td>\n",
       "      <td>0</td>\n",
       "      <td>0</td>\n",
       "      <td>0</td>\n",
       "      <td>0</td>\n",
       "      <td>0</td>\n",
       "      <td>0</td>\n",
       "      <td>0</td>\n",
       "      <td>0</td>\n",
       "      <td>0</td>\n",
       "      <td>0</td>\n",
       "    </tr>\n",
       "  </tbody>\n",
       "</table>\n",
       "<p>5 rows × 8148 columns</p>\n",
       "</div>"
      ],
      "text/plain": [
       "   aa  aaaaandidon  aaaaannnnnnd  aaaah  aaaahmaz  ab  abbey  abck  abdomen  \\\n",
       "0   0            0             0      0         0   0      0     0        0   \n",
       "1   0            0             0      0         0   0      0     0        0   \n",
       "2   0            0             0      0         0   0      0     0        0   \n",
       "3   0            0             0      0         0   0      0     0        0   \n",
       "4   0            0             0      0         0   0      0     0        0   \n",
       "\n",
       "   abdomin  ...  zigzag  zillion  zip  ziploc  zipper  zombi  zone  zooland  \\\n",
       "0        0  ...       0        0    0       0       0      0     0        0   \n",
       "1        0  ...       0        0    0       0       0      0     0        0   \n",
       "2        0  ...       0        0    0       0       0      0     0        0   \n",
       "3        0  ...       0        0    0       0       0      0     0        0   \n",
       "4        0  ...       0        0    0       0       0      0     0        0   \n",
       "\n",
       "   zoom  zuma  \n",
       "0     0     0  \n",
       "1     0     0  \n",
       "2     0     0  \n",
       "3     0     0  \n",
       "4     0     0  \n",
       "\n",
       "[5 rows x 8148 columns]"
      ]
     },
     "execution_count": 230,
     "metadata": {},
     "output_type": "execute_result"
    }
   ],
   "source": [
    "from sklearn.feature_extraction.text import CountVectorizer\n",
    "\n",
    "cv = CountVectorizer(min_df=0.0, max_df=1.0, ngram_range=(1, 1))\n",
    "X_traincv = cv.fit_transform(X_train['Clean Review']).toarray()\n",
    "X_traincv = pd.DataFrame(X_traincv, columns=cv.get_feature_names())\n",
    "\n",
    "X_testcv = cv.transform(X_test['Clean Review']).toarray()\n",
    "X_testcv = pd.DataFrame(X_testcv, columns=cv.get_feature_names())\n",
    "X_traincv.head()"
   ]
  },
  {
   "cell_type": "code",
   "execution_count": 231,
   "id": "fccaf49c",
   "metadata": {},
   "outputs": [
    {
     "data": {
      "text/html": [
       "<div>\n",
       "<style scoped>\n",
       "    .dataframe tbody tr th:only-of-type {\n",
       "        vertical-align: middle;\n",
       "    }\n",
       "\n",
       "    .dataframe tbody tr th {\n",
       "        vertical-align: top;\n",
       "    }\n",
       "\n",
       "    .dataframe thead th {\n",
       "        text-align: right;\n",
       "    }\n",
       "</style>\n",
       "<table border=\"1\" class=\"dataframe\">\n",
       "  <thead>\n",
       "    <tr style=\"text-align: right;\">\n",
       "      <th></th>\n",
       "      <th>char_count</th>\n",
       "      <th>word_count</th>\n",
       "      <th>word_density</th>\n",
       "      <th>punctuation_count</th>\n",
       "      <th>title_word_count</th>\n",
       "      <th>upper_case_word_count</th>\n",
       "      <th>Polarity</th>\n",
       "      <th>Subjectivity</th>\n",
       "      <th>aa</th>\n",
       "      <th>aaaaandidon</th>\n",
       "      <th>...</th>\n",
       "      <th>zigzag</th>\n",
       "      <th>zillion</th>\n",
       "      <th>zip</th>\n",
       "      <th>ziploc</th>\n",
       "      <th>zipper</th>\n",
       "      <th>zombi</th>\n",
       "      <th>zone</th>\n",
       "      <th>zooland</th>\n",
       "      <th>zoom</th>\n",
       "      <th>zuma</th>\n",
       "    </tr>\n",
       "  </thead>\n",
       "  <tbody>\n",
       "    <tr>\n",
       "      <th>0</th>\n",
       "      <td>500</td>\n",
       "      <td>90</td>\n",
       "      <td>5.494505</td>\n",
       "      <td>15</td>\n",
       "      <td>1</td>\n",
       "      <td>0</td>\n",
       "      <td>0.347756</td>\n",
       "      <td>0.529487</td>\n",
       "      <td>0</td>\n",
       "      <td>0</td>\n",
       "      <td>...</td>\n",
       "      <td>0</td>\n",
       "      <td>0</td>\n",
       "      <td>0</td>\n",
       "      <td>0</td>\n",
       "      <td>0</td>\n",
       "      <td>0</td>\n",
       "      <td>0</td>\n",
       "      <td>0</td>\n",
       "      <td>0</td>\n",
       "      <td>0</td>\n",
       "    </tr>\n",
       "    <tr>\n",
       "      <th>1</th>\n",
       "      <td>298</td>\n",
       "      <td>56</td>\n",
       "      <td>5.228070</td>\n",
       "      <td>9</td>\n",
       "      <td>1</td>\n",
       "      <td>0</td>\n",
       "      <td>0.335065</td>\n",
       "      <td>0.528247</td>\n",
       "      <td>0</td>\n",
       "      <td>0</td>\n",
       "      <td>...</td>\n",
       "      <td>0</td>\n",
       "      <td>0</td>\n",
       "      <td>0</td>\n",
       "      <td>0</td>\n",
       "      <td>0</td>\n",
       "      <td>0</td>\n",
       "      <td>0</td>\n",
       "      <td>0</td>\n",
       "      <td>0</td>\n",
       "      <td>0</td>\n",
       "    </tr>\n",
       "    <tr>\n",
       "      <th>2</th>\n",
       "      <td>235</td>\n",
       "      <td>40</td>\n",
       "      <td>5.731707</td>\n",
       "      <td>10</td>\n",
       "      <td>1</td>\n",
       "      <td>0</td>\n",
       "      <td>0.127036</td>\n",
       "      <td>0.467235</td>\n",
       "      <td>0</td>\n",
       "      <td>0</td>\n",
       "      <td>...</td>\n",
       "      <td>0</td>\n",
       "      <td>0</td>\n",
       "      <td>0</td>\n",
       "      <td>0</td>\n",
       "      <td>0</td>\n",
       "      <td>0</td>\n",
       "      <td>0</td>\n",
       "      <td>0</td>\n",
       "      <td>0</td>\n",
       "      <td>0</td>\n",
       "    </tr>\n",
       "    <tr>\n",
       "      <th>3</th>\n",
       "      <td>195</td>\n",
       "      <td>41</td>\n",
       "      <td>4.642857</td>\n",
       "      <td>3</td>\n",
       "      <td>1</td>\n",
       "      <td>1</td>\n",
       "      <td>0.178571</td>\n",
       "      <td>0.528571</td>\n",
       "      <td>0</td>\n",
       "      <td>0</td>\n",
       "      <td>...</td>\n",
       "      <td>0</td>\n",
       "      <td>0</td>\n",
       "      <td>0</td>\n",
       "      <td>0</td>\n",
       "      <td>0</td>\n",
       "      <td>0</td>\n",
       "      <td>0</td>\n",
       "      <td>0</td>\n",
       "      <td>0</td>\n",
       "      <td>0</td>\n",
       "    </tr>\n",
       "    <tr>\n",
       "      <th>4</th>\n",
       "      <td>94</td>\n",
       "      <td>17</td>\n",
       "      <td>5.222222</td>\n",
       "      <td>3</td>\n",
       "      <td>1</td>\n",
       "      <td>0</td>\n",
       "      <td>0.487500</td>\n",
       "      <td>0.662500</td>\n",
       "      <td>0</td>\n",
       "      <td>0</td>\n",
       "      <td>...</td>\n",
       "      <td>0</td>\n",
       "      <td>0</td>\n",
       "      <td>0</td>\n",
       "      <td>0</td>\n",
       "      <td>0</td>\n",
       "      <td>0</td>\n",
       "      <td>0</td>\n",
       "      <td>0</td>\n",
       "      <td>0</td>\n",
       "      <td>0</td>\n",
       "    </tr>\n",
       "  </tbody>\n",
       "</table>\n",
       "<p>5 rows × 8156 columns</p>\n",
       "</div>"
      ],
      "text/plain": [
       "   char_count  word_count  word_density  punctuation_count  title_word_count  \\\n",
       "0         500          90      5.494505                 15                 1   \n",
       "1         298          56      5.228070                  9                 1   \n",
       "2         235          40      5.731707                 10                 1   \n",
       "3         195          41      4.642857                  3                 1   \n",
       "4          94          17      5.222222                  3                 1   \n",
       "\n",
       "   upper_case_word_count  Polarity  Subjectivity  aa  aaaaandidon  ...  \\\n",
       "0                      0  0.347756      0.529487   0            0  ...   \n",
       "1                      0  0.335065      0.528247   0            0  ...   \n",
       "2                      0  0.127036      0.467235   0            0  ...   \n",
       "3                      1  0.178571      0.528571   0            0  ...   \n",
       "4                      0  0.487500      0.662500   0            0  ...   \n",
       "\n",
       "   zigzag  zillion  zip  ziploc  zipper  zombi  zone  zooland  zoom  zuma  \n",
       "0       0        0    0       0       0      0     0        0     0     0  \n",
       "1       0        0    0       0       0      0     0        0     0     0  \n",
       "2       0        0    0       0       0      0     0        0     0     0  \n",
       "3       0        0    0       0       0      0     0        0     0     0  \n",
       "4       0        0    0       0       0      0     0        0     0     0  \n",
       "\n",
       "[5 rows x 8156 columns]"
      ]
     },
     "execution_count": 231,
     "metadata": {},
     "output_type": "execute_result"
    }
   ],
   "source": [
    "X_train_comb = pd.concat([X_train_metadata, X_traincv], axis=1)\n",
    "X_test_comb = pd.concat([X_test_metadata, X_testcv], axis=1)\n",
    "\n",
    "X_train_comb.head()"
   ]
  },
  {
   "cell_type": "code",
   "execution_count": 232,
   "id": "71d9635d",
   "metadata": {},
   "outputs": [
    {
     "name": "stdout",
     "output_type": "stream",
     "text": [
      "              precision    recall  f1-score   support\n",
      "\n",
      "           0       0.74      0.66      0.70      1274\n",
      "           1       0.91      0.93      0.92      4383\n",
      "\n",
      "    accuracy                           0.87      5657\n",
      "   macro avg       0.82      0.80      0.81      5657\n",
      "weighted avg       0.87      0.87      0.87      5657\n",
      "\n"
     ]
    },
    {
     "data": {
      "text/html": [
       "<div>\n",
       "<style scoped>\n",
       "    .dataframe tbody tr th:only-of-type {\n",
       "        vertical-align: middle;\n",
       "    }\n",
       "\n",
       "    .dataframe tbody tr th {\n",
       "        vertical-align: top;\n",
       "    }\n",
       "\n",
       "    .dataframe thead th {\n",
       "        text-align: right;\n",
       "    }\n",
       "</style>\n",
       "<table border=\"1\" class=\"dataframe\">\n",
       "  <thead>\n",
       "    <tr style=\"text-align: right;\">\n",
       "      <th></th>\n",
       "      <th>0</th>\n",
       "      <th>1</th>\n",
       "    </tr>\n",
       "  </thead>\n",
       "  <tbody>\n",
       "    <tr>\n",
       "      <th>0</th>\n",
       "      <td>847</td>\n",
       "      <td>427</td>\n",
       "    </tr>\n",
       "    <tr>\n",
       "      <th>1</th>\n",
       "      <td>304</td>\n",
       "      <td>4079</td>\n",
       "    </tr>\n",
       "  </tbody>\n",
       "</table>\n",
       "</div>"
      ],
      "text/plain": [
       "     0     1\n",
       "0  847   427\n",
       "1  304  4079"
      ]
     },
     "execution_count": 232,
     "metadata": {},
     "output_type": "execute_result"
    }
   ],
   "source": [
    "lr.fit(X_train_comb, y_train)\n",
    "predictions = lr.predict(X_test_comb)\n",
    "\n",
    "print(classification_report(y_test, predictions))\n",
    "pd.DataFrame(confusion_matrix(y_test, predictions))"
   ]
  },
  {
   "cell_type": "code",
   "execution_count": null,
   "id": "24227a40",
   "metadata": {},
   "outputs": [],
   "source": []
  },
  {
   "cell_type": "code",
   "execution_count": null,
   "id": "13b81aa8",
   "metadata": {},
   "outputs": [],
   "source": []
  }
 ],
 "metadata": {
  "kernelspec": {
   "display_name": "Python 3 (ipykernel)",
   "language": "python",
   "name": "python3"
  },
  "language_info": {
   "codemirror_mode": {
    "name": "ipython",
    "version": 3
   },
   "file_extension": ".py",
   "mimetype": "text/x-python",
   "name": "python",
   "nbconvert_exporter": "python",
   "pygments_lexer": "ipython3",
   "version": "3.9.12"
  }
 },
 "nbformat": 4,
 "nbformat_minor": 5
}
